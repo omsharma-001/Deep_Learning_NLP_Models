{
  "cells": [
    {
      "cell_type": "code",
      "execution_count": null,
      "metadata": {
        "colab": {
          "base_uri": "https://localhost:8080/"
        },
        "id": "Qh8CPNbMVPGZ",
        "outputId": "89460369-61bc-4723-d95a-5208319b6cd3"
      },
      "outputs": [
        {
          "name": "stdout",
          "output_type": "stream",
          "text": [
            "--2023-06-12 13:57:35--  https://raw.githubusercontent.com/mrdbourke/tensorflow-deep-learning/main/extras/helper_functions.py\n",
            "Resolving raw.githubusercontent.com (raw.githubusercontent.com)... 185.199.111.133, 185.199.108.133, 185.199.109.133, ...\n",
            "Connecting to raw.githubusercontent.com (raw.githubusercontent.com)|185.199.111.133|:443... connected.\n",
            "HTTP request sent, awaiting response... 200 OK\n",
            "Length: 10246 (10K) [text/plain]\n",
            "Saving to: ‘helper_functions.py’\n",
            "\n",
            "helper_functions.py 100%[===================>]  10.01K  --.-KB/s    in 0s      \n",
            "\n",
            "2023-06-12 13:57:36 (52.8 MB/s) - ‘helper_functions.py’ saved [10246/10246]\n",
            "\n"
          ]
        }
      ],
      "source": [
        "!wget https://raw.githubusercontent.com/mrdbourke/tensorflow-deep-learning/main/extras/helper_functions.py"
      ]
    },
    {
      "cell_type": "code",
      "execution_count": null,
      "metadata": {
        "id": "OvFiRciOW460"
      },
      "outputs": [],
      "source": [
        "from helper_functions import unzip_data, create_tensorboard_callback, plot_loss_curves, compare_historys"
      ]
    },
    {
      "cell_type": "code",
      "execution_count": null,
      "metadata": {
        "colab": {
          "base_uri": "https://localhost:8080/"
        },
        "id": "Nx3fMarwXpJe",
        "outputId": "24a11500-289a-4880-efc6-1e294eeedd3c"
      },
      "outputs": [
        {
          "name": "stdout",
          "output_type": "stream",
          "text": [
            "--2023-06-12 13:57:28--  https://storage.googleapis.com/ztm_tf_course/nlp_getting_started.zip\n",
            "Resolving storage.googleapis.com (storage.googleapis.com)... 172.253.118.128, 74.125.24.128, 142.250.4.128, ...\n",
            "Connecting to storage.googleapis.com (storage.googleapis.com)|172.253.118.128|:443... connected.\n",
            "HTTP request sent, awaiting response... 200 OK\n",
            "Length: 607343 (593K) [application/zip]\n",
            "Saving to: ‘nlp_getting_started.zip’\n",
            "\n",
            "nlp_getting_started 100%[===================>] 593.11K   722KB/s    in 0.8s    \n",
            "\n",
            "2023-06-12 13:57:29 (722 KB/s) - ‘nlp_getting_started.zip’ saved [607343/607343]\n",
            "\n"
          ]
        }
      ],
      "source": [
        "!wget https://storage.googleapis.com/ztm_tf_course/nlp_getting_started.zip\n"
      ]
    },
    {
      "cell_type": "code",
      "execution_count": null,
      "metadata": {
        "id": "g3CopifkXq2-"
      },
      "outputs": [],
      "source": [
        "unzip_data(\"nlp_getting_started.zip\")"
      ]
    },
    {
      "cell_type": "code",
      "execution_count": null,
      "metadata": {
        "id": "_rooLqpVX119"
      },
      "outputs": [],
      "source": [
        "import pandas as pd\n",
        "train_df = pd.read_csv(\"train.csv\")\n",
        "test_df = pd.read_csv(\"test.csv\")\n",
        "train_df_shuffled = train_df.sample(frac = 1, random_state=42)"
      ]
    },
    {
      "cell_type": "code",
      "execution_count": null,
      "metadata": {
        "colab": {
          "base_uri": "https://localhost:8080/"
        },
        "id": "7PYRSIqi-L_E",
        "outputId": "5f896ff5-8e48-45a2-b1cd-83aa48b0b795"
      },
      "outputs": [
        {
          "data": {
            "text/plain": [
              "0    4342\n",
              "1    3271\n",
              "Name: target, dtype: int64"
            ]
          },
          "execution_count": 9,
          "metadata": {},
          "output_type": "execute_result"
        }
      ],
      "source": [
        "train_df.target.value_counts()"
      ]
    },
    {
      "cell_type": "code",
      "execution_count": null,
      "metadata": {
        "id": "MY3fq-__-RJo"
      },
      "outputs": [],
      "source": [
        "from sklearn.model_selection import train_test_split\n",
        "\n",
        "train_sentences, val_sentences, train_labels, val_labels = train_test_split(train_df_shuffled[\"text\"].to_numpy(), train_df_shuffled[\"target\"].to_numpy(), test_size=0.1, random_state = 42)"
      ]
    },
    {
      "cell_type": "code",
      "execution_count": null,
      "metadata": {
        "colab": {
          "base_uri": "https://localhost:8080/"
        },
        "id": "1J9QVWCRbheM",
        "outputId": "069bd1ab-d50a-450c-b93e-87de8c0dafd4"
      },
      "outputs": [
        {
          "data": {
            "text/plain": [
              "numpy.ndarray"
            ]
          },
          "execution_count": 11,
          "metadata": {},
          "output_type": "execute_result"
        }
      ],
      "source": [
        "type(train_sentences)"
      ]
    },
    {
      "cell_type": "code",
      "execution_count": null,
      "metadata": {
        "colab": {
          "background_save": true
        },
        "id": "AvCG-caPBjcs"
      },
      "outputs": [],
      "source": [
        "import tensorflow as tf\n",
        "from tensorflow.keras.layers.experimental.preprocessing import TextVectorization\n",
        "\n",
        "text_vector = TextVectorization(max_tokens=1000, standardize = \"lower_and_strip_punctuation\", split = \"whitespace\", ngrams = None, output_mode = \"int\", output_sequence_length=15 , pad_to_max_tokens=True)\n"
      ]
    },
    {
      "cell_type": "code",
      "execution_count": null,
      "metadata": {
        "colab": {
          "background_save": true
        },
        "id": "bqFsD4JxCAtE"
      },
      "outputs": [],
      "source": [
        "text_vector.adapt(train_sentences)"
      ]
    },
    {
      "cell_type": "code",
      "execution_count": null,
      "metadata": {
        "colab": {
          "background_save": true,
          "base_uri": "https://localhost:8080/"
        },
        "id": "_ic1r9voM7Qe",
        "outputId": "341ceede-dc89-4c4a-fd98-eed548a31819"
      },
      "outputs": [
        {
          "data": {
            "text/plain": [
              "<tf.Tensor: shape=(1, 15), dtype=int64, numpy=\n",
              "array([[264,   3, 232,   4,  13, 698,   0,   0,   0,   0,   0,   0,   0,\n",
              "          0,   0]])>"
            ]
          },
          "execution_count": 11,
          "metadata": {},
          "output_type": "execute_result"
        }
      ],
      "source": [
        "sample = \"There's a flood in my street\"\n",
        "text_vector([sample])"
      ]
    },
    {
      "cell_type": "code",
      "execution_count": null,
      "metadata": {
        "colab": {
          "background_save": true
        },
        "id": "iLIOnsrlNrAP"
      },
      "outputs": [],
      "source": [
        "from tensorflow.keras import layers\n",
        "\n",
        "embedding = layers.Embedding(input_dim = 10000, output_dim = 128, embeddings_initializer = \"uniform\", input_length = 15)"
      ]
    },
    {
      "cell_type": "code",
      "execution_count": null,
      "metadata": {
        "colab": {
          "background_save": true,
          "base_uri": "https://localhost:8080/"
        },
        "id": "ProliwYNWBVh",
        "outputId": "c4e1b199-0c26-4d75-81f2-8ffc3ff6f435"
      },
      "outputs": [
        {
          "data": {
            "text/plain": [
              "<tf.Tensor: shape=(1, 15, 128), dtype=float32, numpy=\n",
              "array([[[-0.01143087,  0.02805254, -0.00316989, ...,  0.01834658,\n",
              "         -0.04234991,  0.04274556],\n",
              "        [ 0.00972005,  0.03012475,  0.02519501, ...,  0.0495686 ,\n",
              "          0.00382805,  0.03685958],\n",
              "        [-0.04279635,  0.00759071, -0.04137643, ...,  0.04395026,\n",
              "          0.01209272,  0.03423469],\n",
              "        ...,\n",
              "        [ 0.02870793, -0.04246329, -0.00066205, ...,  0.04382709,\n",
              "          0.02391306, -0.00531869],\n",
              "        [ 0.02870793, -0.04246329, -0.00066205, ...,  0.04382709,\n",
              "          0.02391306, -0.00531869],\n",
              "        [ 0.02870793, -0.04246329, -0.00066205, ...,  0.04382709,\n",
              "          0.02391306, -0.00531869]]], dtype=float32)>"
            ]
          },
          "execution_count": 13,
          "metadata": {},
          "output_type": "execute_result"
        }
      ],
      "source": [
        "embedding(text_vector([sample]))"
      ]
    },
    {
      "cell_type": "code",
      "execution_count": null,
      "metadata": {
        "colab": {
          "background_save": true
        },
        "id": "hB8jqIHgWR0H"
      },
      "outputs": [],
      "source": [
        "from sklearn.feature_extraction.text import TfidfVectorizer\n",
        "from sklearn.naive_bayes import MultinomialNB\n",
        "from sklearn.pipeline import Pipeline"
      ]
    },
    {
      "cell_type": "code",
      "execution_count": null,
      "metadata": {
        "colab": {
          "background_save": true,
          "base_uri": "https://localhost:8080/",
          "height": 126
        },
        "id": "chcC1zd77uYG",
        "outputId": "89f63c09-dfa5-48e7-caa2-d7de3c55e9b4"
      },
      "outputs": [
        {
          "data": {
            "text/html": [
              "<style>#sk-container-id-1 {color: black;background-color: white;}#sk-container-id-1 pre{padding: 0;}#sk-container-id-1 div.sk-toggleable {background-color: white;}#sk-container-id-1 label.sk-toggleable__label {cursor: pointer;display: block;width: 100%;margin-bottom: 0;padding: 0.3em;box-sizing: border-box;text-align: center;}#sk-container-id-1 label.sk-toggleable__label-arrow:before {content: \"▸\";float: left;margin-right: 0.25em;color: #696969;}#sk-container-id-1 label.sk-toggleable__label-arrow:hover:before {color: black;}#sk-container-id-1 div.sk-estimator:hover label.sk-toggleable__label-arrow:before {color: black;}#sk-container-id-1 div.sk-toggleable__content {max-height: 0;max-width: 0;overflow: hidden;text-align: left;background-color: #f0f8ff;}#sk-container-id-1 div.sk-toggleable__content pre {margin: 0.2em;color: black;border-radius: 0.25em;background-color: #f0f8ff;}#sk-container-id-1 input.sk-toggleable__control:checked~div.sk-toggleable__content {max-height: 200px;max-width: 100%;overflow: auto;}#sk-container-id-1 input.sk-toggleable__control:checked~label.sk-toggleable__label-arrow:before {content: \"▾\";}#sk-container-id-1 div.sk-estimator input.sk-toggleable__control:checked~label.sk-toggleable__label {background-color: #d4ebff;}#sk-container-id-1 div.sk-label input.sk-toggleable__control:checked~label.sk-toggleable__label {background-color: #d4ebff;}#sk-container-id-1 input.sk-hidden--visually {border: 0;clip: rect(1px 1px 1px 1px);clip: rect(1px, 1px, 1px, 1px);height: 1px;margin: -1px;overflow: hidden;padding: 0;position: absolute;width: 1px;}#sk-container-id-1 div.sk-estimator {font-family: monospace;background-color: #f0f8ff;border: 1px dotted black;border-radius: 0.25em;box-sizing: border-box;margin-bottom: 0.5em;}#sk-container-id-1 div.sk-estimator:hover {background-color: #d4ebff;}#sk-container-id-1 div.sk-parallel-item::after {content: \"\";width: 100%;border-bottom: 1px solid gray;flex-grow: 1;}#sk-container-id-1 div.sk-label:hover label.sk-toggleable__label {background-color: #d4ebff;}#sk-container-id-1 div.sk-serial::before {content: \"\";position: absolute;border-left: 1px solid gray;box-sizing: border-box;top: 0;bottom: 0;left: 50%;z-index: 0;}#sk-container-id-1 div.sk-serial {display: flex;flex-direction: column;align-items: center;background-color: white;padding-right: 0.2em;padding-left: 0.2em;position: relative;}#sk-container-id-1 div.sk-item {position: relative;z-index: 1;}#sk-container-id-1 div.sk-parallel {display: flex;align-items: stretch;justify-content: center;background-color: white;position: relative;}#sk-container-id-1 div.sk-item::before, #sk-container-id-1 div.sk-parallel-item::before {content: \"\";position: absolute;border-left: 1px solid gray;box-sizing: border-box;top: 0;bottom: 0;left: 50%;z-index: -1;}#sk-container-id-1 div.sk-parallel-item {display: flex;flex-direction: column;z-index: 1;position: relative;background-color: white;}#sk-container-id-1 div.sk-parallel-item:first-child::after {align-self: flex-end;width: 50%;}#sk-container-id-1 div.sk-parallel-item:last-child::after {align-self: flex-start;width: 50%;}#sk-container-id-1 div.sk-parallel-item:only-child::after {width: 0;}#sk-container-id-1 div.sk-dashed-wrapped {border: 1px dashed gray;margin: 0 0.4em 0.5em 0.4em;box-sizing: border-box;padding-bottom: 0.4em;background-color: white;}#sk-container-id-1 div.sk-label label {font-family: monospace;font-weight: bold;display: inline-block;line-height: 1.2em;}#sk-container-id-1 div.sk-label-container {text-align: center;}#sk-container-id-1 div.sk-container {/* jupyter's `normalize.less` sets `[hidden] { display: none; }` but bootstrap.min.css set `[hidden] { display: none !important; }` so we also need the `!important` here to be able to override the default hidden behavior on the sphinx rendered scikit-learn.org. See: https://github.com/scikit-learn/scikit-learn/issues/21755 */display: inline-block !important;position: relative;}#sk-container-id-1 div.sk-text-repr-fallback {display: none;}</style><div id=\"sk-container-id-1\" class=\"sk-top-container\"><div class=\"sk-text-repr-fallback\"><pre>Pipeline(steps=[(&#x27;tfidf&#x27;, TfidfVectorizer()), (&#x27;clf&#x27;, MultinomialNB())])</pre><b>In a Jupyter environment, please rerun this cell to show the HTML representation or trust the notebook. <br />On GitHub, the HTML representation is unable to render, please try loading this page with nbviewer.org.</b></div><div class=\"sk-container\" hidden><div class=\"sk-item sk-dashed-wrapped\"><div class=\"sk-label-container\"><div class=\"sk-label sk-toggleable\"><input class=\"sk-toggleable__control sk-hidden--visually\" id=\"sk-estimator-id-1\" type=\"checkbox\" ><label for=\"sk-estimator-id-1\" class=\"sk-toggleable__label sk-toggleable__label-arrow\">Pipeline</label><div class=\"sk-toggleable__content\"><pre>Pipeline(steps=[(&#x27;tfidf&#x27;, TfidfVectorizer()), (&#x27;clf&#x27;, MultinomialNB())])</pre></div></div></div><div class=\"sk-serial\"><div class=\"sk-item\"><div class=\"sk-estimator sk-toggleable\"><input class=\"sk-toggleable__control sk-hidden--visually\" id=\"sk-estimator-id-2\" type=\"checkbox\" ><label for=\"sk-estimator-id-2\" class=\"sk-toggleable__label sk-toggleable__label-arrow\">TfidfVectorizer</label><div class=\"sk-toggleable__content\"><pre>TfidfVectorizer()</pre></div></div></div><div class=\"sk-item\"><div class=\"sk-estimator sk-toggleable\"><input class=\"sk-toggleable__control sk-hidden--visually\" id=\"sk-estimator-id-3\" type=\"checkbox\" ><label for=\"sk-estimator-id-3\" class=\"sk-toggleable__label sk-toggleable__label-arrow\">MultinomialNB</label><div class=\"sk-toggleable__content\"><pre>MultinomialNB()</pre></div></div></div></div></div></div></div>"
            ],
            "text/plain": [
              "Pipeline(steps=[('tfidf', TfidfVectorizer()), ('clf', MultinomialNB())])"
            ]
          },
          "execution_count": 15,
          "metadata": {},
          "output_type": "execute_result"
        }
      ],
      "source": [
        "model = Pipeline([\n",
        "    (\"tfidf\", TfidfVectorizer()),\n",
        "    (\"clf\", MultinomialNB()),\n",
        "\n",
        "])\n",
        "\n",
        "model.fit(train_sentences, train_labels)"
      ]
    },
    {
      "cell_type": "code",
      "execution_count": null,
      "metadata": {
        "colab": {
          "background_save": true
        },
        "id": "IYSV9ZjH852R"
      },
      "outputs": [],
      "source": [
        "score = model.score(val_sentences, val_labels)"
      ]
    },
    {
      "cell_type": "code",
      "execution_count": null,
      "metadata": {
        "colab": {
          "background_save": true
        },
        "id": "o6pF8sq1-A2f"
      },
      "outputs": [],
      "source": [
        "from sklearn.metrics import accuracy_score, precision_recall_fscore_support"
      ]
    },
    {
      "cell_type": "code",
      "execution_count": null,
      "metadata": {
        "colab": {
          "background_save": true
        },
        "id": "jKREVm6T-Q7L"
      },
      "outputs": [],
      "source": [
        "def calculate_result(y_true, y_pred):\n",
        "  model_accuracy = accuracy_score(y_true, y_pred)*100\n",
        "  model_precision, model_recall, model_f1score, _ = precision_recall_fscore_support(y_true, y_pred, average = \"weighted\")\n",
        "  model_results = {\"accuracy\":model_accuracy, \"precision\": model_precision, \"recall\": model_recall, \"model_f1score\":model_f1score}\n",
        "\n",
        "  return model_results\n",
        "\n",
        "\n"
      ]
    },
    {
      "cell_type": "code",
      "execution_count": null,
      "metadata": {
        "colab": {
          "background_save": true
        },
        "id": "iYzQFajmAD16"
      },
      "outputs": [],
      "source": [
        "preds = model.predict(val_sentences)"
      ]
    },
    {
      "cell_type": "code",
      "execution_count": null,
      "metadata": {
        "colab": {
          "background_save": true
        },
        "id": "Di-ENyMfALdo"
      },
      "outputs": [],
      "source": [
        "result = calculate_result(y_true = val_labels, y_pred = preds)"
      ]
    },
    {
      "cell_type": "code",
      "execution_count": null,
      "metadata": {
        "colab": {
          "background_save": true,
          "base_uri": "https://localhost:8080/"
        },
        "id": "6hYm7qMlAt2t",
        "outputId": "ab004049-bfe9-4a6f-e3b7-e8507b130400"
      },
      "outputs": [
        {
          "data": {
            "text/plain": [
              "{'accuracy': 79.26509186351706,\n",
              " 'precision': 0.8111390004213173,\n",
              " 'recall': 0.7926509186351706,\n",
              " 'model_f1score': 0.7862189758049549}"
            ]
          },
          "execution_count": 21,
          "metadata": {},
          "output_type": "execute_result"
        }
      ],
      "source": [
        "result"
      ]
    },
    {
      "cell_type": "code",
      "execution_count": null,
      "metadata": {
        "colab": {
          "background_save": true
        },
        "id": "nFUefV_eAzhn"
      },
      "outputs": [],
      "source": [
        "from helper_functions import create_tensorboard_callback\n",
        "\n",
        "save_dir = \"model_logs\"\n"
      ]
    },
    {
      "cell_type": "code",
      "execution_count": null,
      "metadata": {
        "colab": {
          "background_save": true
        },
        "id": "sxaRGsPSP1QG"
      },
      "outputs": [],
      "source": [
        "from tensorflow.keras import layers\n",
        "inputs = layers.Input(shape = (1,), dtype = tf.string)\n",
        "x = text_vector(inputs)\n",
        "x = embedding(x)\n",
        "x = layers.GlobalAveragePooling1D()(x)\n",
        "outputs = layers.Dense(1, activation = \"sigmoid\")(x)\n",
        "model_1 = tf.keras.Model(inputs,outputs)\n"
      ]
    },
    {
      "cell_type": "code",
      "execution_count": null,
      "metadata": {
        "colab": {
          "background_save": true,
          "base_uri": "https://localhost:8080/"
        },
        "id": "ZUj5uKfcQXCf",
        "outputId": "ee512e6f-325f-4248-adb6-6930f9d8c076"
      },
      "outputs": [
        {
          "name": "stderr",
          "output_type": "stream",
          "text": [
            "WARNING:absl:`lr` is deprecated in Keras optimizer, please use `learning_rate` or use the legacy optimizer, e.g.,tf.keras.optimizers.legacy.Adam.\n"
          ]
        }
      ],
      "source": [
        "model_1.compile(loss = \"binary_crossentropy\", optimizer = tf.keras.optimizers.Adam(lr = 0.001), metrics = [\"accuracy\"])\n"
      ]
    },
    {
      "cell_type": "code",
      "execution_count": null,
      "metadata": {
        "colab": {
          "background_save": true,
          "base_uri": "https://localhost:8080/"
        },
        "id": "slq4YdSOWCru",
        "outputId": "7a51e2b5-a0b0-46ab-e8ef-5674e364c7a9"
      },
      "outputs": [
        {
          "name": "stdout",
          "output_type": "stream",
          "text": [
            "Saving TensorBoard log files to: model_logs/model_1_dense/20230612-181448\n",
            "Epoch 1/5\n",
            "215/215 [==============================] - 30s 105ms/step - loss: 0.6213 - accuracy: 0.6688 - val_loss: 0.5590 - val_accuracy: 0.7336\n",
            "Epoch 2/5\n",
            "215/215 [==============================] - 3s 13ms/step - loss: 0.4923 - accuracy: 0.7834 - val_loss: 0.5046 - val_accuracy: 0.7651\n",
            "Epoch 3/5\n",
            "215/215 [==============================] - 2s 8ms/step - loss: 0.4372 - accuracy: 0.8086 - val_loss: 0.4894 - val_accuracy: 0.7717\n",
            "Epoch 4/5\n",
            "215/215 [==============================] - 3s 13ms/step - loss: 0.4102 - accuracy: 0.8209 - val_loss: 0.4905 - val_accuracy: 0.7795\n",
            "Epoch 5/5\n",
            "215/215 [==============================] - 2s 9ms/step - loss: 0.3945 - accuracy: 0.8253 - val_loss: 0.4975 - val_accuracy: 0.7808\n"
          ]
        }
      ],
      "source": [
        "model_1_history = model_1.fit(x = train_sentences, y = train_labels, epochs = 5, validation_data = (val_sentences, val_labels), callbacks = [create_tensorboard_callback(dir_name = save_dir, experiment_name =   \"model_1_dense\")])"
      ]
    },
    {
      "cell_type": "code",
      "execution_count": null,
      "metadata": {
        "colab": {
          "background_save": true,
          "base_uri": "https://localhost:8080/"
        },
        "id": "0mYtW5RtWuhd",
        "outputId": "aa84b237-8a84-4ffe-f3b8-b612c03eb112"
      },
      "outputs": [
        {
          "name": "stdout",
          "output_type": "stream",
          "text": [
            "24/24 [==============================] - 0s 2ms/step\n"
          ]
        }
      ],
      "source": [
        "model_1_pred_probs = tf.squeeze(tf.round(model_1.predict(val_sentences)))"
      ]
    },
    {
      "cell_type": "code",
      "execution_count": null,
      "metadata": {
        "colab": {
          "background_save": true,
          "base_uri": "https://localhost:8080/"
        },
        "id": "PykeZKPDiyIf",
        "outputId": "21a615ee-3917-46e9-c237-ebb44dea8af3"
      },
      "outputs": [
        {
          "data": {
            "text/plain": [
              "<tf.Tensor: shape=(762,), dtype=float32, numpy=\n",
              "array([0., 1., 1., 0., 0., 1., 1., 1., 1., 0., 0., 1., 0., 0., 0., 0., 0.,\n",
              "       0., 0., 0., 1., 0., 0., 0., 1., 1., 0., 0., 0., 0., 0., 0., 0., 0.,\n",
              "       0., 0., 1., 0., 0., 1., 0., 0., 0., 0., 0., 1., 0., 1., 0., 1., 0.,\n",
              "       1., 0., 0., 0., 0., 0., 1., 0., 0., 0., 1., 1., 0., 1., 1., 1., 1.,\n",
              "       0., 0., 0., 0., 1., 0., 0., 0., 0., 0., 0., 1., 0., 0., 1., 0., 0.,\n",
              "       0., 0., 0., 1., 1., 1., 0., 0., 0., 1., 1., 1., 1., 1., 1., 1., 0.,\n",
              "       0., 1., 1., 0., 1., 1., 0., 0., 1., 0., 0., 0., 1., 0., 1., 0., 1.,\n",
              "       0., 1., 0., 0., 1., 0., 0., 1., 0., 0., 1., 0., 1., 1., 1., 1., 0.,\n",
              "       1., 0., 0., 0., 1., 0., 0., 1., 0., 1., 0., 0., 0., 1., 0., 0., 0.,\n",
              "       0., 0., 1., 0., 0., 1., 0., 1., 0., 0., 1., 0., 0., 1., 0., 1., 0.,\n",
              "       1., 1., 1., 0., 1., 0., 1., 1., 1., 1., 0., 1., 1., 1., 1., 1., 0.,\n",
              "       1., 0., 0., 0., 1., 0., 0., 0., 0., 0., 0., 0., 0., 0., 1., 1., 0.,\n",
              "       0., 1., 0., 1., 1., 1., 0., 1., 0., 0., 0., 0., 1., 1., 1., 0., 1.,\n",
              "       0., 0., 0., 1., 0., 0., 1., 0., 1., 0., 0., 1., 0., 0., 0., 1., 0.,\n",
              "       0., 0., 0., 0., 1., 1., 0., 0., 1., 0., 0., 1., 0., 0., 0., 1., 0.,\n",
              "       0., 1., 1., 0., 0., 0., 0., 0., 1., 1., 1., 1., 0., 0., 0., 0., 0.,\n",
              "       1., 0., 0., 1., 0., 0., 1., 0., 0., 0., 1., 0., 1., 1., 0., 0., 1.,\n",
              "       0., 1., 0., 0., 0., 0., 1., 0., 1., 0., 1., 0., 0., 0., 1., 0., 0.,\n",
              "       0., 0., 0., 0., 0., 1., 0., 0., 1., 0., 1., 0., 0., 0., 0., 0., 1.,\n",
              "       0., 1., 0., 0., 1., 0., 1., 0., 0., 1., 0., 0., 1., 0., 0., 1., 1.,\n",
              "       0., 0., 1., 1., 1., 0., 1., 0., 0., 0., 0., 1., 0., 0., 0., 0., 1.,\n",
              "       1., 1., 0., 0., 0., 0., 1., 0., 0., 0., 0., 1., 0., 0., 0., 0., 1.,\n",
              "       0., 0., 0., 1., 0., 1., 1., 0., 0., 0., 0., 1., 1., 0., 1., 0., 0.,\n",
              "       0., 0., 0., 0., 1., 0., 0., 0., 0., 1., 0., 0., 1., 1., 1., 0., 1.,\n",
              "       0., 1., 1., 0., 0., 0., 1., 1., 0., 1., 1., 0., 1., 1., 1., 1., 0.,\n",
              "       0., 0., 1., 0., 0., 0., 0., 0., 0., 0., 1., 0., 0., 1., 1., 0., 1.,\n",
              "       0., 0., 0., 1., 0., 0., 0., 0., 0., 1., 1., 1., 1., 1., 0., 0., 1.,\n",
              "       1., 1., 0., 0., 0., 1., 1., 0., 0., 1., 0., 0., 1., 0., 0., 1., 0.,\n",
              "       0., 1., 0., 0., 0., 0., 0., 1., 0., 0., 0., 0., 0., 0., 0., 1., 0.,\n",
              "       0., 0., 0., 0., 0., 0., 1., 1., 1., 1., 1., 0., 0., 0., 1., 0., 0.,\n",
              "       0., 0., 0., 0., 1., 0., 1., 1., 1., 1., 0., 0., 1., 0., 0., 0., 0.,\n",
              "       0., 1., 1., 1., 1., 0., 0., 1., 0., 0., 0., 0., 0., 0., 0., 0., 0.,\n",
              "       0., 0., 0., 1., 1., 0., 1., 1., 0., 1., 0., 0., 0., 0., 0., 0., 0.,\n",
              "       1., 1., 0., 1., 0., 1., 0., 0., 0., 1., 1., 1., 0., 0., 0., 0., 0.,\n",
              "       1., 0., 0., 0., 1., 0., 0., 1., 0., 0., 0., 0., 0., 0., 0., 0., 0.,\n",
              "       0., 0., 1., 1., 0., 0., 0., 1., 1., 1., 0., 1., 0., 0., 0., 0., 1.,\n",
              "       0., 0., 1., 0., 0., 0., 0., 0., 1., 0., 1., 0., 1., 0., 0., 0., 1.,\n",
              "       0., 0., 1., 0., 1., 0., 0., 0., 0., 0., 0., 1., 0., 1., 1., 0., 0.,\n",
              "       0., 0., 0., 1., 1., 0., 0., 0., 0., 0., 0., 1., 0., 0., 0., 0., 1.,\n",
              "       0., 0., 0., 0., 0., 1., 1., 0., 0., 0., 0., 1., 1., 1., 0., 0., 1.,\n",
              "       0., 0., 1., 0., 0., 1., 0., 0., 0., 0., 1., 1., 0., 0., 1., 0., 0.,\n",
              "       0., 1., 0., 1., 0., 1., 0., 1., 0., 0., 0., 0., 0., 0., 0., 1., 0.,\n",
              "       0., 0., 0., 0., 1., 0., 1., 0., 0., 0., 0., 0., 0., 0., 1., 0., 0.,\n",
              "       1., 1., 1., 1., 1., 0., 0., 0., 0., 1., 0., 0., 0., 0., 0., 0., 0.,\n",
              "       0., 0., 0., 0., 1., 0., 1., 1., 0., 0., 0., 1., 0., 0.],\n",
              "      dtype=float32)>"
            ]
          },
          "execution_count": 27,
          "metadata": {},
          "output_type": "execute_result"
        }
      ],
      "source": [
        "model_1_pred_probs\n"
      ]
    },
    {
      "cell_type": "code",
      "execution_count": null,
      "metadata": {
        "colab": {
          "background_save": true
        },
        "id": "kYNSkaMOi2sQ"
      },
      "outputs": [],
      "source": [
        "result = calculate_result(y_true = val_labels, y_pred = model_1_pred_probs)"
      ]
    },
    {
      "cell_type": "code",
      "execution_count": null,
      "metadata": {
        "colab": {
          "background_save": true,
          "base_uri": "https://localhost:8080/"
        },
        "id": "7FreivUQjG66",
        "outputId": "fabbf04b-0982-4625-ad03-e7374c4bcb64"
      },
      "outputs": [
        {
          "data": {
            "text/plain": [
              "{'accuracy': 78.08398950131233,\n",
              " 'precision': 0.7909718300891369,\n",
              " 'recall': 0.7808398950131233,\n",
              " 'model_f1score': 0.7759864846948408}"
            ]
          },
          "execution_count": 29,
          "metadata": {},
          "output_type": "execute_result"
        }
      ],
      "source": [
        "result"
      ]
    },
    {
      "cell_type": "code",
      "execution_count": null,
      "metadata": {
        "colab": {
          "background_save": true
        },
        "id": "1-anqPqMjIA-"
      },
      "outputs": [],
      "source": [
        "from tensorflow.keras import layers\n",
        "inputs = layers.Input(shape = (1,), dtype = \"string\")\n",
        "x = text_vector(inputs)\n",
        "x = embedding(x)\n",
        "x = layers.LSTM(64)(x)\n",
        "x = layers.Dense(64, activation = \"relu\")(x)\n",
        "outputs = layers.Dense(1, activation = \"sigmoid\")(x)\n",
        "model_2 = tf.keras.Model(inputs, outputs)"
      ]
    },
    {
      "cell_type": "code",
      "execution_count": null,
      "metadata": {
        "colab": {
          "background_save": true,
          "base_uri": "https://localhost:8080/"
        },
        "id": "BZ2zyPt9-6lW",
        "outputId": "05dba40d-5955-493d-c667-30e5e195f722"
      },
      "outputs": [
        {
          "name": "stderr",
          "output_type": "stream",
          "text": [
            "WARNING:absl:`lr` is deprecated in Keras optimizer, please use `learning_rate` or use the legacy optimizer, e.g.,tf.keras.optimizers.legacy.Adam.\n"
          ]
        }
      ],
      "source": [
        "model_2.compile(loss = \"binary_crossentropy\", optimizer = tf.keras.optimizers.Adam(lr = 0.001), metrics = [\"accuracy\"])\n"
      ]
    },
    {
      "cell_type": "code",
      "execution_count": null,
      "metadata": {
        "colab": {
          "background_save": true,
          "base_uri": "https://localhost:8080/"
        },
        "id": "OPhmgMIIEvks",
        "outputId": "bd5bb274-a588-4ae6-c509-63227df9d1e4"
      },
      "outputs": [
        {
          "name": "stdout",
          "output_type": "stream",
          "text": [
            "Saving TensorBoard log files to: model_logs/model_2_LSTM/20230612-181528\n",
            "Epoch 1/5\n",
            "215/215 [==============================] - 15s 54ms/step - loss: 0.4078 - accuracy: 0.8228 - val_loss: 0.4970 - val_accuracy: 0.7808\n",
            "Epoch 2/5\n",
            "215/215 [==============================] - 3s 15ms/step - loss: 0.3763 - accuracy: 0.8340 - val_loss: 0.5162 - val_accuracy: 0.7664\n",
            "Epoch 3/5\n",
            "215/215 [==============================] - 2s 11ms/step - loss: 0.3701 - accuracy: 0.8361 - val_loss: 0.5002 - val_accuracy: 0.7782\n",
            "Epoch 4/5\n",
            "215/215 [==============================] - 3s 14ms/step - loss: 0.3605 - accuracy: 0.8444 - val_loss: 0.5264 - val_accuracy: 0.7730\n",
            "Epoch 5/5\n",
            "215/215 [==============================] - 2s 12ms/step - loss: 0.3358 - accuracy: 0.8545 - val_loss: 0.5480 - val_accuracy: 0.7677\n"
          ]
        },
        {
          "data": {
            "text/plain": [
              "<keras.callbacks.History at 0x7fee2875f340>"
            ]
          },
          "execution_count": 32,
          "metadata": {},
          "output_type": "execute_result"
        }
      ],
      "source": [
        "model_2.fit(train_sentences, train_labels, epochs = 5, validation_data = (val_sentences, val_labels), callbacks = [create_tensorboard_callback(save_dir, \"model_2_LSTM\")])"
      ]
    },
    {
      "cell_type": "code",
      "execution_count": null,
      "metadata": {
        "colab": {
          "background_save": true,
          "base_uri": "https://localhost:8080/"
        },
        "id": "WLblMkZcFIOz",
        "outputId": "a0683948-13da-4b7c-fc6c-fb8545901471"
      },
      "outputs": [
        {
          "name": "stdout",
          "output_type": "stream",
          "text": [
            "24/24 [==============================] - 0s 3ms/step\n"
          ]
        },
        {
          "data": {
            "text/plain": [
              "array([[0.56987935],\n",
              "       [0.76388544],\n",
              "       [0.9140713 ],\n",
              "       [0.03855203],\n",
              "       [0.11894756],\n",
              "       [0.996385  ],\n",
              "       [0.8963069 ],\n",
              "       [0.8334121 ],\n",
              "       [0.7852568 ],\n",
              "       [0.10307001]], dtype=float32)"
            ]
          },
          "execution_count": 33,
          "metadata": {},
          "output_type": "execute_result"
        }
      ],
      "source": [
        "model_2_pred_probs = model_2.predict(val_sentences)\n",
        "model_2_pred_probs[:10]"
      ]
    },
    {
      "cell_type": "code",
      "execution_count": null,
      "metadata": {
        "colab": {
          "background_save": true
        },
        "id": "1xtrf7ToFflQ"
      },
      "outputs": [],
      "source": [
        "model_2_preds = tf.squeeze(tf.round(model_2_pred_probs))"
      ]
    },
    {
      "cell_type": "code",
      "execution_count": null,
      "metadata": {
        "colab": {
          "background_save": true,
          "base_uri": "https://localhost:8080/"
        },
        "id": "p0HHzR74F6SD",
        "outputId": "df5e6bb9-e859-4b87-d6d1-e18d2990d779"
      },
      "outputs": [
        {
          "data": {
            "text/plain": [
              "{'accuracy': 76.77165354330708,\n",
              " 'precision': 0.7691343474319641,\n",
              " 'recall': 0.7677165354330708,\n",
              " 'model_f1score': 0.7656749923220023}"
            ]
          },
          "execution_count": 35,
          "metadata": {},
          "output_type": "execute_result"
        }
      ],
      "source": [
        "results = calculate_result(val_labels, model_2_preds)\n",
        "results"
      ]
    },
    {
      "cell_type": "code",
      "execution_count": null,
      "metadata": {
        "colab": {
          "background_save": true
        },
        "id": "QPDOYOP1GLUN"
      },
      "outputs": [],
      "source": [
        "from tensorflow.keras import layers\n",
        "inputs = layers.Input(shape = (1,), dtype = tf.string)\n",
        "x = text_vector(inputs)\n",
        "x = embedding(x)\n",
        "x =  layers.GRU(64)(x)\n",
        "outputs = layers.Dense(1, activation = \"sigmoid\")(x)\n",
        "model_3 = tf.keras.Model(inputs,outputs)\n"
      ]
    },
    {
      "cell_type": "code",
      "execution_count": null,
      "metadata": {
        "colab": {
          "background_save": true,
          "base_uri": "https://localhost:8080/"
        },
        "id": "skkE6dsNJbOj",
        "outputId": "d248de60-0965-41f3-8a98-90860f5eaf00"
      },
      "outputs": [
        {
          "name": "stderr",
          "output_type": "stream",
          "text": [
            "WARNING:absl:`lr` is deprecated in Keras optimizer, please use `learning_rate` or use the legacy optimizer, e.g.,tf.keras.optimizers.legacy.Adam.\n"
          ]
        }
      ],
      "source": [
        "model_3.compile(loss = \"binary_crossentropy\", optimizer = tf.keras.optimizers.Adam(lr = 0.003), metrics = [\"accuracy\"])"
      ]
    },
    {
      "cell_type": "code",
      "execution_count": null,
      "metadata": {
        "colab": {
          "background_save": true,
          "base_uri": "https://localhost:8080/"
        },
        "id": "I3OqSrvVJ5ul",
        "outputId": "53c98652-7347-4fe4-a04c-9aabd4637673"
      },
      "outputs": [
        {
          "name": "stdout",
          "output_type": "stream",
          "text": [
            "Saving TensorBoard log files to: model_logs/model_3_GRU/20230612-181555\n",
            "Epoch 1/5\n",
            "215/215 [==============================] - 15s 58ms/step - loss: 0.3918 - accuracy: 0.8237 - val_loss: 0.5153 - val_accuracy: 0.7743\n",
            "Epoch 2/5\n",
            "215/215 [==============================] - 3s 15ms/step - loss: 0.3435 - accuracy: 0.8536 - val_loss: 0.5153 - val_accuracy: 0.7625\n",
            "Epoch 3/5\n",
            "215/215 [==============================] - 3s 12ms/step - loss: 0.3242 - accuracy: 0.8651 - val_loss: 0.5127 - val_accuracy: 0.7664\n",
            "Epoch 4/5\n",
            "215/215 [==============================] - 3s 12ms/step - loss: 0.3031 - accuracy: 0.8705 - val_loss: 0.5841 - val_accuracy: 0.7612\n",
            "Epoch 5/5\n",
            "215/215 [==============================] - 2s 7ms/step - loss: 0.2879 - accuracy: 0.8854 - val_loss: 0.5723 - val_accuracy: 0.7625\n"
          ]
        }
      ],
      "source": [
        "model_3_history = model_3.fit(train_sentences, train_labels, epochs = 5, validation_data = (val_sentences, val_labels), callbacks = [create_tensorboard_callback(save_dir, \"model_3_GRU\")])"
      ]
    },
    {
      "cell_type": "code",
      "execution_count": null,
      "metadata": {
        "colab": {
          "background_save": true,
          "base_uri": "https://localhost:8080/"
        },
        "id": "0dlqK_gUKbAb",
        "outputId": "53fe38c4-55f4-440f-d608-07dab907c1d4"
      },
      "outputs": [
        {
          "name": "stdout",
          "output_type": "stream",
          "text": [
            "24/24 [==============================] - 0s 3ms/step\n"
          ]
        },
        {
          "data": {
            "text/plain": [
              "array([[7.94401705e-01],\n",
              "       [4.27934319e-01],\n",
              "       [9.73698676e-01],\n",
              "       [6.99499622e-02],\n",
              "       [8.20251554e-02],\n",
              "       [9.97253358e-01],\n",
              "       [9.61467385e-01],\n",
              "       [9.32822704e-01],\n",
              "       [8.51931155e-01],\n",
              "       [1.47150770e-01],\n",
              "       [2.02115491e-01],\n",
              "       [3.43560994e-01],\n",
              "       [3.64079177e-02],\n",
              "       [1.60022244e-01],\n",
              "       [7.99600501e-03],\n",
              "       [1.11840613e-01],\n",
              "       [1.41615244e-02],\n",
              "       [3.50720614e-01],\n",
              "       [9.98531505e-02],\n",
              "       [3.86040062e-01],\n",
              "       [9.64664519e-01],\n",
              "       [2.24527661e-02],\n",
              "       [2.99862176e-01],\n",
              "       [4.81365286e-02],\n",
              "       [8.43616962e-01],\n",
              "       [9.98610377e-01],\n",
              "       [4.62958589e-02],\n",
              "       [2.08582357e-02],\n",
              "       [1.45779746e-02],\n",
              "       [2.00992674e-02],\n",
              "       [9.29745138e-01],\n",
              "       [2.81280637e-01],\n",
              "       [1.64188266e-01],\n",
              "       [7.98454583e-01],\n",
              "       [5.88842183e-02],\n",
              "       [8.36466625e-02],\n",
              "       [9.98490214e-01],\n",
              "       [9.01881605e-02],\n",
              "       [4.66523655e-02],\n",
              "       [9.87582207e-01],\n",
              "       [1.64198369e-01],\n",
              "       [3.12782340e-02],\n",
              "       [6.17673583e-02],\n",
              "       [8.29149932e-02],\n",
              "       [9.83061492e-01],\n",
              "       [9.95097458e-01],\n",
              "       [9.00018811e-02],\n",
              "       [9.12813187e-01],\n",
              "       [1.54453233e-01],\n",
              "       [4.67966050e-01],\n",
              "       [4.55839708e-02],\n",
              "       [3.94485682e-01],\n",
              "       [2.28653222e-01],\n",
              "       [3.83570306e-02],\n",
              "       [3.04366089e-02],\n",
              "       [3.08419224e-02],\n",
              "       [1.24877002e-02],\n",
              "       [9.18143511e-01],\n",
              "       [1.54563144e-01],\n",
              "       [2.06155151e-01],\n",
              "       [8.17293301e-02],\n",
              "       [9.98261631e-01],\n",
              "       [3.04828703e-01],\n",
              "       [6.40825406e-02],\n",
              "       [9.75986063e-01],\n",
              "       [9.83319938e-01],\n",
              "       [9.84889805e-01],\n",
              "       [8.24837089e-01],\n",
              "       [7.05635082e-03],\n",
              "       [2.97471941e-01],\n",
              "       [5.97566776e-02],\n",
              "       [5.06723598e-02],\n",
              "       [8.99709046e-01],\n",
              "       [4.89166901e-02],\n",
              "       [1.94806471e-01],\n",
              "       [4.17239070e-01],\n",
              "       [1.35355070e-01],\n",
              "       [7.99915254e-01],\n",
              "       [4.41744000e-01],\n",
              "       [5.85056365e-01],\n",
              "       [1.54146448e-01],\n",
              "       [1.07882865e-01],\n",
              "       [9.98521984e-01],\n",
              "       [4.32752483e-02],\n",
              "       [1.31967559e-01],\n",
              "       [7.77216330e-02],\n",
              "       [4.30445187e-02],\n",
              "       [6.37964010e-02],\n",
              "       [9.37242925e-01],\n",
              "       [9.75452185e-01],\n",
              "       [9.96276557e-01],\n",
              "       [1.58917457e-02],\n",
              "       [3.14446867e-01],\n",
              "       [1.19260661e-01],\n",
              "       [9.90984201e-01],\n",
              "       [6.80126846e-01],\n",
              "       [8.51576269e-01],\n",
              "       [9.20437396e-01],\n",
              "       [9.91906047e-01],\n",
              "       [9.83921289e-01],\n",
              "       [9.97174740e-01],\n",
              "       [1.65756345e-01],\n",
              "       [6.37251064e-02],\n",
              "       [9.75676835e-01],\n",
              "       [9.97114062e-01],\n",
              "       [4.80892956e-02],\n",
              "       [9.78438914e-01],\n",
              "       [9.46779668e-01],\n",
              "       [1.92511771e-02],\n",
              "       [9.67974365e-01],\n",
              "       [6.97245002e-01],\n",
              "       [2.55416576e-02],\n",
              "       [1.05970651e-01],\n",
              "       [9.25574154e-02],\n",
              "       [1.59118131e-01],\n",
              "       [1.07684016e-01],\n",
              "       [6.22608721e-01],\n",
              "       [3.56752127e-01],\n",
              "       [8.99869323e-01],\n",
              "       [6.91962987e-02],\n",
              "       [9.99359667e-01],\n",
              "       [4.84876633e-02],\n",
              "       [3.52930754e-01],\n",
              "       [5.35482764e-01],\n",
              "       [3.33242059e-01],\n",
              "       [7.59817421e-01],\n",
              "       [9.47982490e-01],\n",
              "       [6.99419603e-02],\n",
              "       [6.12968914e-02],\n",
              "       [9.72437859e-01],\n",
              "       [5.92793338e-02],\n",
              "       [9.99359667e-01],\n",
              "       [9.96972442e-01],\n",
              "       [9.98610377e-01],\n",
              "       [9.98189270e-01],\n",
              "       [1.35002062e-02],\n",
              "       [9.67699766e-01],\n",
              "       [7.23625869e-02],\n",
              "       [2.44013205e-01],\n",
              "       [1.20462859e-02],\n",
              "       [9.98691380e-01],\n",
              "       [5.87046027e-01],\n",
              "       [1.60022244e-01],\n",
              "       [9.66787815e-01],\n",
              "       [1.73695654e-01],\n",
              "       [5.74297726e-01],\n",
              "       [2.94367895e-02],\n",
              "       [4.89285439e-02],\n",
              "       [1.71858713e-01],\n",
              "       [9.98852372e-01],\n",
              "       [6.97665140e-02],\n",
              "       [4.90338430e-02],\n",
              "       [6.57381594e-01],\n",
              "       [9.04549956e-01],\n",
              "       [6.82674870e-02],\n",
              "       [9.97598946e-01],\n",
              "       [1.87626496e-01],\n",
              "       [4.86929208e-01],\n",
              "       [9.98337984e-01],\n",
              "       [7.22316429e-02],\n",
              "       [9.96883571e-01],\n",
              "       [4.01155688e-02],\n",
              "       [4.90927398e-01],\n",
              "       [9.87780213e-01],\n",
              "       [1.80460498e-01],\n",
              "       [5.46537638e-01],\n",
              "       [9.97985125e-01],\n",
              "       [2.38947183e-01],\n",
              "       [9.68911588e-01],\n",
              "       [1.84262618e-01],\n",
              "       [9.88319039e-01],\n",
              "       [8.87347579e-01],\n",
              "       [8.85819614e-01],\n",
              "       [3.54727544e-02],\n",
              "       [9.99377847e-01],\n",
              "       [6.60967231e-02],\n",
              "       [8.58015656e-01],\n",
              "       [8.49634528e-01],\n",
              "       [9.75259662e-01],\n",
              "       [9.97056246e-01],\n",
              "       [8.17668438e-02],\n",
              "       [8.95632923e-01],\n",
              "       [9.28753972e-01],\n",
              "       [8.92929912e-01],\n",
              "       [9.78408217e-01],\n",
              "       [6.70695305e-01],\n",
              "       [5.52766547e-02],\n",
              "       [9.99775946e-01],\n",
              "       [1.07007377e-01],\n",
              "       [4.23006117e-02],\n",
              "       [2.66452096e-02],\n",
              "       [9.96109068e-01],\n",
              "       [2.34383553e-01],\n",
              "       [4.58740324e-01],\n",
              "       [1.19212717e-02],\n",
              "       [1.17306203e-01],\n",
              "       [3.59059088e-02],\n",
              "       [1.83032259e-01],\n",
              "       [4.93951768e-01],\n",
              "       [6.88993419e-03],\n",
              "       [1.92181155e-01],\n",
              "       [4.40951109e-01],\n",
              "       [9.91268039e-01],\n",
              "       [3.77025217e-01],\n",
              "       [4.73912954e-01],\n",
              "       [9.99573767e-01],\n",
              "       [7.23597333e-02],\n",
              "       [9.42893565e-01],\n",
              "       [2.63148159e-01],\n",
              "       [9.91654515e-01],\n",
              "       [6.45710945e-01],\n",
              "       [9.98559058e-01],\n",
              "       [4.59874332e-01],\n",
              "       [1.73772931e-01],\n",
              "       [1.07715510e-01],\n",
              "       [3.38706300e-02],\n",
              "       [8.43441188e-01],\n",
              "       [6.86870337e-01],\n",
              "       [9.93880033e-01],\n",
              "       [5.06099239e-02],\n",
              "       [6.08566046e-01],\n",
              "       [7.16465265e-02],\n",
              "       [4.51884568e-02],\n",
              "       [2.75713801e-01],\n",
              "       [9.94485080e-01],\n",
              "       [2.58911073e-01],\n",
              "       [3.31595123e-01],\n",
              "       [9.80941236e-01],\n",
              "       [5.53313017e-01],\n",
              "       [8.63759279e-01],\n",
              "       [1.96646020e-01],\n",
              "       [2.49943659e-01],\n",
              "       [6.82918668e-01],\n",
              "       [2.35910147e-01],\n",
              "       [8.69189084e-01],\n",
              "       [1.28948495e-01],\n",
              "       [5.88039875e-01],\n",
              "       [1.54818013e-01],\n",
              "       [5.50959520e-02],\n",
              "       [1.94579493e-02],\n",
              "       [7.85201788e-01],\n",
              "       [1.31427780e-01],\n",
              "       [9.99255002e-01],\n",
              "       [9.90041852e-01],\n",
              "       [7.16108456e-02],\n",
              "       [7.06456676e-02],\n",
              "       [9.89828467e-01],\n",
              "       [8.11883435e-02],\n",
              "       [1.12809315e-01],\n",
              "       [4.38931227e-01],\n",
              "       [9.26885009e-02],\n",
              "       [7.00966597e-01],\n",
              "       [2.90594604e-02],\n",
              "       [9.63855267e-01],\n",
              "       [6.56934977e-01],\n",
              "       [9.78847891e-02],\n",
              "       [8.49401176e-01],\n",
              "       [9.95277643e-01],\n",
              "       [4.85323556e-02],\n",
              "       [8.04311410e-02],\n",
              "       [1.01018369e-01],\n",
              "       [1.87077262e-02],\n",
              "       [3.13148908e-02],\n",
              "       [9.98230636e-01],\n",
              "       [9.88149762e-01],\n",
              "       [5.97960353e-01],\n",
              "       [9.94057894e-01],\n",
              "       [1.73550606e-01],\n",
              "       [3.23554903e-01],\n",
              "       [3.61480266e-02],\n",
              "       [3.28471571e-01],\n",
              "       [1.22353379e-02],\n",
              "       [9.95238185e-01],\n",
              "       [4.00335379e-02],\n",
              "       [2.04127654e-01],\n",
              "       [9.96288180e-01],\n",
              "       [3.31261172e-03],\n",
              "       [2.79173795e-02],\n",
              "       [9.98156965e-01],\n",
              "       [4.00237888e-02],\n",
              "       [9.43103358e-02],\n",
              "       [1.10551892e-02],\n",
              "       [8.44512701e-01],\n",
              "       [6.00220084e-01],\n",
              "       [6.97166085e-01],\n",
              "       [5.96427619e-01],\n",
              "       [1.32087097e-01],\n",
              "       [2.29750097e-01],\n",
              "       [8.64135206e-01],\n",
              "       [1.86362602e-02],\n",
              "       [6.88614309e-01],\n",
              "       [3.25049490e-01],\n",
              "       [2.09829345e-01],\n",
              "       [7.17942953e-01],\n",
              "       [1.51709139e-01],\n",
              "       [8.36455166e-01],\n",
              "       [3.16960156e-01],\n",
              "       [9.52681661e-01],\n",
              "       [7.69523799e-01],\n",
              "       [8.91356409e-01],\n",
              "       [1.84981860e-02],\n",
              "       [9.56911072e-02],\n",
              "       [2.41576031e-01],\n",
              "       [9.89577174e-01],\n",
              "       [2.52063096e-01],\n",
              "       [6.95299283e-02],\n",
              "       [4.47698057e-01],\n",
              "       [1.33966595e-01],\n",
              "       [6.79315850e-02],\n",
              "       [2.91676447e-02],\n",
              "       [1.25095218e-01],\n",
              "       [9.95818913e-01],\n",
              "       [2.29836315e-01],\n",
              "       [2.44313449e-01],\n",
              "       [9.99565065e-01],\n",
              "       [1.13233700e-02],\n",
              "       [9.72907066e-01],\n",
              "       [1.05112307e-01],\n",
              "       [5.78942113e-02],\n",
              "       [7.09782243e-02],\n",
              "       [3.96617502e-01],\n",
              "       [8.38894993e-02],\n",
              "       [9.95772779e-01],\n",
              "       [1.63632128e-02],\n",
              "       [9.96191978e-01],\n",
              "       [1.07629083e-01],\n",
              "       [4.93193269e-02],\n",
              "       [9.99476850e-01],\n",
              "       [3.47812980e-01],\n",
              "       [9.80992138e-01],\n",
              "       [1.85687274e-01],\n",
              "       [6.24600612e-02],\n",
              "       [9.95273530e-01],\n",
              "       [6.03417531e-02],\n",
              "       [8.78789648e-02],\n",
              "       [9.62329507e-01],\n",
              "       [2.13721078e-02],\n",
              "       [1.48895770e-01],\n",
              "       [9.70398605e-01],\n",
              "       [9.97591972e-01],\n",
              "       [4.36291844e-03],\n",
              "       [7.68445432e-02],\n",
              "       [9.92606759e-01],\n",
              "       [9.99163628e-01],\n",
              "       [9.95288372e-01],\n",
              "       [1.64096266e-01],\n",
              "       [6.66770935e-01],\n",
              "       [1.42208412e-01],\n",
              "       [4.02088910e-02],\n",
              "       [1.94545031e-01],\n",
              "       [4.48131934e-02],\n",
              "       [9.13164556e-01],\n",
              "       [7.89485797e-02],\n",
              "       [8.10478985e-01],\n",
              "       [1.48316711e-01],\n",
              "       [4.22799662e-02],\n",
              "       [9.98812675e-01],\n",
              "       [9.98610377e-01],\n",
              "       [9.97994065e-01],\n",
              "       [7.99634159e-02],\n",
              "       [3.02213192e-01],\n",
              "       [3.42668980e-01],\n",
              "       [1.72972292e-01],\n",
              "       [4.38069731e-01],\n",
              "       [3.88942838e-01],\n",
              "       [7.06790667e-03],\n",
              "       [2.46083364e-02],\n",
              "       [1.12579376e-01],\n",
              "       [9.37023759e-01],\n",
              "       [1.35094717e-01],\n",
              "       [7.53566176e-02],\n",
              "       [6.40047565e-02],\n",
              "       [1.57209441e-01],\n",
              "       [3.53241444e-01],\n",
              "       [1.20457135e-01],\n",
              "       [1.42509803e-01],\n",
              "       [1.28253913e-02],\n",
              "       [9.46366787e-02],\n",
              "       [1.04326539e-01],\n",
              "       [9.76099193e-01],\n",
              "       [9.94920552e-01],\n",
              "       [8.07636261e-01],\n",
              "       [4.64494199e-01],\n",
              "       [9.91920754e-02],\n",
              "       [3.72923613e-01],\n",
              "       [9.98310566e-01],\n",
              "       [8.94771039e-01],\n",
              "       [2.03245133e-01],\n",
              "       [9.97230709e-01],\n",
              "       [1.41247034e-01],\n",
              "       [8.91615808e-01],\n",
              "       [6.43401444e-01],\n",
              "       [3.36008221e-02],\n",
              "       [4.98163551e-01],\n",
              "       [6.31553411e-01],\n",
              "       [9.97554362e-01],\n",
              "       [5.55708669e-02],\n",
              "       [2.08737254e-02],\n",
              "       [1.49754375e-01],\n",
              "       [3.88942838e-01],\n",
              "       [9.99493003e-01],\n",
              "       [5.02451174e-02],\n",
              "       [7.71726847e-01],\n",
              "       [5.59546590e-01],\n",
              "       [7.44942427e-02],\n",
              "       [9.99359667e-01],\n",
              "       [1.29738962e-02],\n",
              "       [8.51906061e-01],\n",
              "       [2.59969719e-02],\n",
              "       [2.77491033e-01],\n",
              "       [9.89796817e-01],\n",
              "       [7.84670562e-02],\n",
              "       [9.25385505e-02],\n",
              "       [5.93018495e-02],\n",
              "       [9.76973176e-01],\n",
              "       [6.72214806e-01],\n",
              "       [6.18962765e-01],\n",
              "       [3.58800441e-02],\n",
              "       [8.27017963e-01],\n",
              "       [3.98623832e-02],\n",
              "       [9.25428152e-01],\n",
              "       [9.24943864e-01],\n",
              "       [9.98727500e-01],\n",
              "       [9.95858490e-01],\n",
              "       [2.37631649e-02],\n",
              "       [9.12456036e-01],\n",
              "       [2.12001339e-01],\n",
              "       [6.25284195e-01],\n",
              "       [1.11229330e-01],\n",
              "       [7.27110744e-01],\n",
              "       [4.20845971e-02],\n",
              "       [6.88266039e-01],\n",
              "       [1.86178505e-01],\n",
              "       [5.62681556e-02],\n",
              "       [4.76175314e-03],\n",
              "       [6.32450640e-01],\n",
              "       [5.41893184e-01],\n",
              "       [3.25078666e-01],\n",
              "       [9.96312439e-01],\n",
              "       [9.86862659e-01],\n",
              "       [5.75533696e-02],\n",
              "       [4.27934319e-01],\n",
              "       [4.74851668e-01],\n",
              "       [7.68247396e-02],\n",
              "       [2.34948158e-01],\n",
              "       [9.43212688e-01],\n",
              "       [2.30521429e-02],\n",
              "       [1.04454361e-01],\n",
              "       [6.72976151e-02],\n",
              "       [7.27462232e-01],\n",
              "       [7.30628322e-04],\n",
              "       [9.33777213e-01],\n",
              "       [9.80979085e-01],\n",
              "       [9.99393463e-01],\n",
              "       [9.92092788e-01],\n",
              "       [9.78938580e-01],\n",
              "       [1.24836572e-01],\n",
              "       [1.15672864e-01],\n",
              "       [6.05741084e-01],\n",
              "       [9.76300955e-01],\n",
              "       [9.98373628e-01],\n",
              "       [6.13806583e-03],\n",
              "       [1.12239309e-01],\n",
              "       [3.45983595e-01],\n",
              "       [9.98404443e-01],\n",
              "       [9.99407649e-01],\n",
              "       [2.82552391e-01],\n",
              "       [3.82660590e-02],\n",
              "       [9.94028807e-01],\n",
              "       [2.07391083e-02],\n",
              "       [8.46170187e-01],\n",
              "       [4.63153780e-01],\n",
              "       [2.96343625e-01],\n",
              "       [4.22254167e-02],\n",
              "       [9.21992242e-01],\n",
              "       [3.31709802e-01],\n",
              "       [6.71194553e-01],\n",
              "       [9.31775510e-01],\n",
              "       [4.65305075e-02],\n",
              "       [1.17071584e-01],\n",
              "       [2.31333151e-02],\n",
              "       [4.48986515e-02],\n",
              "       [5.75186163e-02],\n",
              "       [9.40862417e-01],\n",
              "       [3.39475758e-02],\n",
              "       [4.45409149e-01],\n",
              "       [5.38420856e-01],\n",
              "       [5.25811240e-02],\n",
              "       [2.57335007e-01],\n",
              "       [2.88507432e-01],\n",
              "       [9.23152789e-02],\n",
              "       [9.99498844e-01],\n",
              "       [2.44228467e-01],\n",
              "       [2.53491011e-02],\n",
              "       [1.32963896e-01],\n",
              "       [3.48937809e-02],\n",
              "       [3.59534100e-02],\n",
              "       [8.02378237e-01],\n",
              "       [2.51593798e-01],\n",
              "       [9.55706835e-01],\n",
              "       [9.29323971e-01],\n",
              "       [8.64015400e-01],\n",
              "       [7.52525032e-01],\n",
              "       [6.72715783e-01],\n",
              "       [3.95003520e-02],\n",
              "       [1.78138807e-01],\n",
              "       [1.59242570e-01],\n",
              "       [8.62838805e-01],\n",
              "       [5.14854372e-01],\n",
              "       [1.12438738e-01],\n",
              "       [4.63256389e-01],\n",
              "       [6.92124292e-02],\n",
              "       [1.64107457e-01],\n",
              "       [9.25407887e-01],\n",
              "       [8.99951577e-01],\n",
              "       [6.80678189e-02],\n",
              "       [9.96772468e-01],\n",
              "       [9.64717448e-01],\n",
              "       [6.80126846e-01],\n",
              "       [9.99062240e-01],\n",
              "       [9.95877385e-02],\n",
              "       [8.74599665e-02],\n",
              "       [9.89693224e-01],\n",
              "       [3.26332040e-02],\n",
              "       [2.31515579e-02],\n",
              "       [6.80599734e-02],\n",
              "       [4.87862021e-01],\n",
              "       [3.70434672e-02],\n",
              "       [9.55691695e-01],\n",
              "       [6.96509600e-01],\n",
              "       [9.26925600e-01],\n",
              "       [9.79075909e-01],\n",
              "       [8.88364613e-02],\n",
              "       [6.21729791e-02],\n",
              "       [7.07417190e-01],\n",
              "       [7.31690554e-03],\n",
              "       [7.02299848e-02],\n",
              "       [4.96222936e-02],\n",
              "       [9.70216334e-01],\n",
              "       [3.18614423e-01],\n",
              "       [3.74105841e-01],\n",
              "       [2.98776682e-02],\n",
              "       [7.94260204e-01],\n",
              "       [7.61445105e-01],\n",
              "       [1.96046174e-01],\n",
              "       [3.66815031e-02],\n",
              "       [4.23128039e-01],\n",
              "       [9.98700857e-01],\n",
              "       [9.97221112e-01],\n",
              "       [5.16181886e-01],\n",
              "       [7.79158771e-01],\n",
              "       [9.99040306e-01],\n",
              "       [1.20789316e-02],\n",
              "       [9.57155108e-01],\n",
              "       [3.13492380e-02],\n",
              "       [9.85233262e-02],\n",
              "       [1.78193450e-01],\n",
              "       [9.67061222e-02],\n",
              "       [1.22166835e-01],\n",
              "       [1.11833639e-01],\n",
              "       [2.77719796e-01],\n",
              "       [3.01785737e-01],\n",
              "       [6.83076024e-01],\n",
              "       [4.16497290e-01],\n",
              "       [9.99425411e-01],\n",
              "       [4.53272127e-02],\n",
              "       [9.38796759e-01],\n",
              "       [2.79935151e-01],\n",
              "       [1.11503005e-02],\n",
              "       [2.61673182e-01],\n",
              "       [9.51453447e-01],\n",
              "       [7.66640246e-01],\n",
              "       [9.97829735e-01],\n",
              "       [2.15846777e-01],\n",
              "       [1.92998983e-02],\n",
              "       [5.98879755e-01],\n",
              "       [7.89377034e-01],\n",
              "       [3.34009647e-01],\n",
              "       [9.99040306e-01],\n",
              "       [2.10595325e-01],\n",
              "       [5.50643494e-03],\n",
              "       [1.09678723e-01],\n",
              "       [9.99201357e-01],\n",
              "       [1.59339588e-02],\n",
              "       [2.03622840e-02],\n",
              "       [4.65586513e-01],\n",
              "       [8.55315104e-02],\n",
              "       [3.59022766e-02],\n",
              "       [1.88276067e-01],\n",
              "       [1.13797002e-01],\n",
              "       [7.32781366e-02],\n",
              "       [4.98791099e-01],\n",
              "       [1.25471309e-01],\n",
              "       [4.07667845e-01],\n",
              "       [3.97903146e-03],\n",
              "       [9.08837765e-02],\n",
              "       [1.31041901e-02],\n",
              "       [9.62449074e-01],\n",
              "       [6.12836778e-01],\n",
              "       [5.29931903e-01],\n",
              "       [3.38848755e-02],\n",
              "       [1.16615649e-02],\n",
              "       [9.98724997e-01],\n",
              "       [6.46960020e-01],\n",
              "       [9.99823868e-01],\n",
              "       [1.45767361e-01],\n",
              "       [9.60823417e-01],\n",
              "       [7.46440589e-02],\n",
              "       [1.38868675e-01],\n",
              "       [7.72795737e-01],\n",
              "       [2.03212295e-02],\n",
              "       [9.49247658e-01],\n",
              "       [6.00675009e-02],\n",
              "       [4.30238456e-01],\n",
              "       [9.96914387e-01],\n",
              "       [6.52179345e-02],\n",
              "       [6.51582703e-02],\n",
              "       [1.30982235e-01],\n",
              "       [6.51779547e-02],\n",
              "       [5.93443811e-01],\n",
              "       [9.99573767e-01],\n",
              "       [2.05629513e-01],\n",
              "       [9.76123810e-01],\n",
              "       [1.07508577e-01],\n",
              "       [9.47266459e-01],\n",
              "       [2.62712270e-01],\n",
              "       [2.70500243e-01],\n",
              "       [1.38871565e-01],\n",
              "       [8.85745049e-01],\n",
              "       [1.51818255e-02],\n",
              "       [1.72924191e-01],\n",
              "       [2.59696633e-01],\n",
              "       [8.33669722e-01],\n",
              "       [9.98460531e-01],\n",
              "       [4.32031900e-01],\n",
              "       [3.37146372e-02],\n",
              "       [2.00018063e-01],\n",
              "       [8.68971348e-02],\n",
              "       [7.73766339e-01],\n",
              "       [2.01065987e-01],\n",
              "       [9.74697113e-01],\n",
              "       [3.35351318e-01],\n",
              "       [8.36660206e-01],\n",
              "       [9.49043632e-01],\n",
              "       [7.39622891e-01],\n",
              "       [1.36727467e-01],\n",
              "       [1.12438738e-01],\n",
              "       [2.09913120e-01],\n",
              "       [5.50883889e-01],\n",
              "       [9.50252891e-01],\n",
              "       [9.98966575e-01],\n",
              "       [3.22455615e-02],\n",
              "       [3.07823941e-02],\n",
              "       [5.65636419e-02],\n",
              "       [1.02306157e-01],\n",
              "       [5.99303953e-02],\n",
              "       [4.26845178e-02],\n",
              "       [6.02945328e-01],\n",
              "       [2.44300589e-01],\n",
              "       [3.30086425e-02],\n",
              "       [3.92441928e-01],\n",
              "       [1.68667942e-01],\n",
              "       [9.66990888e-01],\n",
              "       [9.35893804e-02],\n",
              "       [8.68785083e-01],\n",
              "       [3.67473125e-01],\n",
              "       [3.47103812e-02],\n",
              "       [2.36337930e-01],\n",
              "       [9.99670267e-01],\n",
              "       [8.41907501e-01],\n",
              "       [2.82067675e-02],\n",
              "       [1.06810197e-01],\n",
              "       [8.79663378e-02],\n",
              "       [2.79092640e-01],\n",
              "       [8.80772352e-01],\n",
              "       [3.53323787e-01],\n",
              "       [6.91519558e-01],\n",
              "       [2.13863730e-01],\n",
              "       [6.32937178e-02],\n",
              "       [5.50076723e-01],\n",
              "       [7.90247843e-02],\n",
              "       [3.31004471e-01],\n",
              "       [4.13528353e-01],\n",
              "       [7.39091411e-02],\n",
              "       [5.86592518e-02],\n",
              "       [9.98691738e-01],\n",
              "       [1.16575770e-01],\n",
              "       [1.84459865e-01],\n",
              "       [3.70434672e-02],\n",
              "       [2.25248590e-01],\n",
              "       [9.34333861e-01],\n",
              "       [9.99359667e-01],\n",
              "       [9.82162893e-01],\n",
              "       [3.56268920e-02],\n",
              "       [9.99114335e-01],\n",
              "       [3.99362892e-01],\n",
              "       [8.42713192e-02],\n",
              "       [3.99362892e-01],\n",
              "       [5.20879328e-01],\n",
              "       [2.13502478e-02],\n",
              "       [6.40100300e-01],\n",
              "       [6.01338446e-02],\n",
              "       [9.87147391e-01],\n",
              "       [2.52783030e-01],\n",
              "       [6.87559247e-01],\n",
              "       [6.66409582e-02],\n",
              "       [1.10534064e-01],\n",
              "       [2.18859464e-02],\n",
              "       [5.31661175e-02],\n",
              "       [1.10393621e-01],\n",
              "       [4.17819656e-02],\n",
              "       [6.72043934e-02],\n",
              "       [9.55632269e-01],\n",
              "       [4.10108231e-02],\n",
              "       [6.39707744e-02],\n",
              "       [1.60443839e-02],\n",
              "       [1.55590236e-01],\n",
              "       [3.34453806e-02],\n",
              "       [8.68890047e-01],\n",
              "       [4.17506188e-01],\n",
              "       [6.31860673e-01],\n",
              "       [5.62455542e-02],\n",
              "       [2.84632910e-02],\n",
              "       [7.31678247e-01],\n",
              "       [2.03912377e-01],\n",
              "       [1.16117157e-01],\n",
              "       [1.40612677e-01],\n",
              "       [3.08317356e-02],\n",
              "       [9.95099485e-01],\n",
              "       [1.55590236e-01],\n",
              "       [5.79507709e-01],\n",
              "       [9.95857179e-01],\n",
              "       [9.98440444e-01],\n",
              "       [9.98621941e-01],\n",
              "       [9.98776734e-01],\n",
              "       [9.93501484e-01],\n",
              "       [2.39424914e-01],\n",
              "       [1.66520059e-01],\n",
              "       [3.19843471e-01],\n",
              "       [6.48032606e-01],\n",
              "       [9.99349892e-01],\n",
              "       [8.18838716e-01],\n",
              "       [2.18705207e-01],\n",
              "       [1.35815904e-01],\n",
              "       [1.66208610e-01],\n",
              "       [1.10858880e-01],\n",
              "       [2.00851545e-01],\n",
              "       [1.07874140e-01],\n",
              "       [1.73650116e-01],\n",
              "       [1.54415723e-02],\n",
              "       [8.77403766e-02],\n",
              "       [6.41558170e-01],\n",
              "       [9.89521742e-01],\n",
              "       [3.96467522e-02],\n",
              "       [9.48224247e-01],\n",
              "       [9.52432573e-01],\n",
              "       [7.68839121e-02],\n",
              "       [1.32637799e-01],\n",
              "       [3.31245273e-01],\n",
              "       [8.50987971e-01],\n",
              "       [2.29184911e-01],\n",
              "       [2.51078489e-03]], dtype=float32)"
            ]
          },
          "execution_count": 39,
          "metadata": {},
          "output_type": "execute_result"
        }
      ],
      "source": [
        "model_3_pred_probs = model_3.predict(val_sentences)\n",
        "model_3_pred_probs"
      ]
    },
    {
      "cell_type": "code",
      "execution_count": null,
      "metadata": {
        "colab": {
          "background_save": true
        },
        "id": "wXk-nOuVLMGx"
      },
      "outputs": [],
      "source": [
        "model_3_preds = tf.squeeze(tf.round(model_3_pred_probs))"
      ]
    },
    {
      "cell_type": "code",
      "execution_count": null,
      "metadata": {
        "colab": {
          "background_save": true,
          "base_uri": "https://localhost:8080/"
        },
        "id": "jEW2tMsNLZmj",
        "outputId": "db332b42-78e5-4e10-8694-dcd85b58d440"
      },
      "outputs": [
        {
          "data": {
            "text/plain": [
              "{'accuracy': 76.24671916010499,\n",
              " 'precision': 0.7639905060800456,\n",
              " 'recall': 0.7624671916010499,\n",
              " 'model_f1score': 0.7602456873168202}"
            ]
          },
          "execution_count": 41,
          "metadata": {},
          "output_type": "execute_result"
        }
      ],
      "source": [
        "results = calculate_result(val_labels, model_3_preds)\n",
        "results"
      ]
    },
    {
      "cell_type": "code",
      "execution_count": null,
      "metadata": {
        "colab": {
          "background_save": true
        },
        "id": "QGYCww3fLgfO"
      },
      "outputs": [],
      "source": [
        "from tensorflow.keras import layers\n",
        "inputs = layers.Input(shape = (1,), dtype = tf.string)\n",
        "x = text_vector(inputs)\n",
        "x = embedding(x)\n",
        "x = layers.Bidirectional(layers.LSTM(64))(x)\n",
        "outputs = layers.Dense(1, activation = \"sigmoid\")(x)\n",
        "model_4 = tf.keras.Model(inputs, outputs)"
      ]
    },
    {
      "cell_type": "code",
      "execution_count": null,
      "metadata": {
        "colab": {
          "background_save": true,
          "base_uri": "https://localhost:8080/"
        },
        "id": "F7-8bBfxRSXc",
        "outputId": "db45cc76-60ae-4b31-ceda-501aad371d5a"
      },
      "outputs": [
        {
          "name": "stderr",
          "output_type": "stream",
          "text": [
            "WARNING:absl:`lr` is deprecated in Keras optimizer, please use `learning_rate` or use the legacy optimizer, e.g.,tf.keras.optimizers.legacy.Adam.\n"
          ]
        }
      ],
      "source": [
        "model_4.compile(loss = \"binary_crossentropy\", optimizer = tf.keras.optimizers.Adam(lr = 0.003), metrics =  [\"accuracy\"])"
      ]
    },
    {
      "cell_type": "code",
      "execution_count": null,
      "metadata": {
        "colab": {
          "background_save": true,
          "base_uri": "https://localhost:8080/"
        },
        "id": "x1yQk7zZR_hS",
        "outputId": "61c749dd-ac06-48de-87fe-fbe67f608faa"
      },
      "outputs": [
        {
          "name": "stdout",
          "output_type": "stream",
          "text": [
            "Saving TensorBoard log files to: model_logs/model_4_bidirectional/20230612-181621\n",
            "Epoch 1/5\n",
            "215/215 [==============================] - 15s 50ms/step - loss: 0.3560 - accuracy: 0.8488 - val_loss: 0.5658 - val_accuracy: 0.7572\n",
            "Epoch 2/5\n",
            "215/215 [==============================] - 4s 18ms/step - loss: 0.2923 - accuracy: 0.8802 - val_loss: 0.6148 - val_accuracy: 0.7625\n",
            "Epoch 3/5\n",
            "215/215 [==============================] - 3s 13ms/step - loss: 0.2693 - accuracy: 0.8866 - val_loss: 0.5918 - val_accuracy: 0.7559\n",
            "Epoch 4/5\n",
            "215/215 [==============================] - 2s 11ms/step - loss: 0.2472 - accuracy: 0.9012 - val_loss: 0.6855 - val_accuracy: 0.7533\n",
            "Epoch 5/5\n",
            "215/215 [==============================] - 2s 10ms/step - loss: 0.2341 - accuracy: 0.9021 - val_loss: 0.7793 - val_accuracy: 0.7467\n"
          ]
        }
      ],
      "source": [
        "mdoel_4_history = model_4.fit(train_sentences, train_labels, epochs = 5, validation_data = (val_sentences, val_labels), callbacks = [create_tensorboard_callback(save_dir, \"model_4_bidirectional\")])"
      ]
    },
    {
      "cell_type": "code",
      "execution_count": null,
      "metadata": {
        "colab": {
          "background_save": true,
          "base_uri": "https://localhost:8080/"
        },
        "id": "OPxbbEftSyRq",
        "outputId": "5622b082-c91d-45d7-ce19-0ed7835a8a83"
      },
      "outputs": [
        {
          "name": "stdout",
          "output_type": "stream",
          "text": [
            "24/24 [==============================] - 1s 3ms/step\n"
          ]
        }
      ],
      "source": [
        "model_4_pred_probs = model_4.predict(val_sentences)"
      ]
    },
    {
      "cell_type": "code",
      "execution_count": null,
      "metadata": {
        "colab": {
          "background_save": true
        },
        "id": "obXJHenHTDlt"
      },
      "outputs": [],
      "source": [
        "model_4_preds = tf.squeeze(tf.round(model_4_pred_probs))"
      ]
    },
    {
      "cell_type": "code",
      "execution_count": null,
      "metadata": {
        "colab": {
          "background_save": true,
          "base_uri": "https://localhost:8080/"
        },
        "id": "eQ9EstTZTJn6",
        "outputId": "d198e917-09e8-4a9a-8ef3-7b2d5f7d1ace"
      },
      "outputs": [
        {
          "data": {
            "text/plain": [
              "{'accuracy': 76.24671916010499,\n",
              " 'precision': 0.7639905060800456,\n",
              " 'recall': 0.7624671916010499,\n",
              " 'model_f1score': 0.7602456873168202}"
            ]
          },
          "execution_count": 47,
          "metadata": {},
          "output_type": "execute_result"
        }
      ],
      "source": [
        "result = calculate_result(val_labels, model_4_preds)\n",
        "results"
      ]
    },
    {
      "cell_type": "code",
      "execution_count": null,
      "metadata": {
        "colab": {
          "background_save": true,
          "base_uri": "https://localhost:8080/"
        },
        "id": "2itRolQqTQmA",
        "outputId": "1e997e5b-ce8e-4e34-a77f-9b099501e685"
      },
      "outputs": [
        {
          "name": "stderr",
          "output_type": "stream",
          "text": [
            "WARNING:absl:`lr` is deprecated in Keras optimizer, please use `learning_rate` or use the legacy optimizer, e.g.,tf.keras.optimizers.legacy.Adam.\n"
          ]
        },
        {
          "name": "stdout",
          "output_type": "stream",
          "text": [
            "Model: \"model_4\"\n",
            "_________________________________________________________________\n",
            " Layer (type)                Output Shape              Param #   \n",
            "=================================================================\n",
            " input_5 (InputLayer)        [(None, 1)]               0         \n",
            "                                                                 \n",
            " text_vectorization (TextVec  (None, 15)               0         \n",
            " torization)                                                     \n",
            "                                                                 \n",
            " embedding (Embedding)       (None, 15, 128)           1280000   \n",
            "                                                                 \n",
            " conv1d (Conv1D)             (None, 11, 64)            41024     \n",
            "                                                                 \n",
            " global_max_pooling1d (Globa  (None, 64)               0         \n",
            " lMaxPooling1D)                                                  \n",
            "                                                                 \n",
            " dense_5 (Dense)             (None, 1)                 65        \n",
            "                                                                 \n",
            "=================================================================\n",
            "Total params: 1,321,089\n",
            "Trainable params: 1,321,089\n",
            "Non-trainable params: 0\n",
            "_________________________________________________________________\n"
          ]
        }
      ],
      "source": [
        "from tensorflow.keras import layers\n",
        "import tensorflow as tf\n",
        "inputs = layers.Input(shape = (1,), dtype = tf.string)\n",
        "x = text_vector(inputs)\n",
        "x = embedding(x)\n",
        "x = layers.Conv1D(64, 5, activation = \"relu\", strides = 1,padding = \"valid\")(x)\n",
        "x = layers.GlobalMaxPool1D()(x)\n",
        "outputs = layers.Dense(1, activation = \"sigmoid\")(x)\n",
        "model_5 = tf.keras.Model(inputs,outputs)\n",
        "\n",
        "model_5.compile(loss = \"binary_crossentropy\", optimizer = tf.keras.optimizers.Adam(lr = 0.0003), metrics = [\"accuracy\"])\n",
        "model_5.summary()"
      ]
    },
    {
      "cell_type": "code",
      "execution_count": null,
      "metadata": {
        "colab": {
          "background_save": true,
          "base_uri": "https://localhost:8080/"
        },
        "id": "zadxgBlI_Tt6",
        "outputId": "59ac2ce6-8310-4a9b-9b38-2c228da039ba"
      },
      "outputs": [
        {
          "name": "stdout",
          "output_type": "stream",
          "text": [
            "Saving TensorBoard log files to: model_logs/model_5_Conv1D/20230612-181648\n",
            "Epoch 1/5\n",
            "215/215 [==============================] - 15s 46ms/step - loss: 0.3703 - accuracy: 0.8374 - val_loss: 0.5472 - val_accuracy: 0.7638\n",
            "Epoch 2/5\n",
            "215/215 [==============================] - 3s 12ms/step - loss: 0.3352 - accuracy: 0.8584 - val_loss: 0.5825 - val_accuracy: 0.7638\n",
            "Epoch 3/5\n",
            "215/215 [==============================] - 2s 8ms/step - loss: 0.3081 - accuracy: 0.8723 - val_loss: 0.5612 - val_accuracy: 0.7717\n",
            "Epoch 4/5\n",
            "215/215 [==============================] - 2s 10ms/step - loss: 0.2782 - accuracy: 0.8879 - val_loss: 0.6202 - val_accuracy: 0.7625\n",
            "Epoch 5/5\n",
            "215/215 [==============================] - 2s 8ms/step - loss: 0.2485 - accuracy: 0.9007 - val_loss: 0.6504 - val_accuracy: 0.7559\n"
          ]
        }
      ],
      "source": [
        "model_5_history = model_5.fit(train_sentences, train_labels, epochs=5, validation_data = (val_sentences, val_labels), callbacks = [create_tensorboard_callback(save_dir, \"model_5_Conv1D\")])"
      ]
    },
    {
      "cell_type": "code",
      "execution_count": null,
      "metadata": {
        "colab": {
          "background_save": true,
          "base_uri": "https://localhost:8080/"
        },
        "id": "lfF3jxnVEd0f",
        "outputId": "650a9064-591f-43a7-fa7e-6113bf98533f"
      },
      "outputs": [
        {
          "name": "stdout",
          "output_type": "stream",
          "text": [
            "24/24 [==============================] - 0s 3ms/step\n"
          ]
        },
        {
          "data": {
            "text/plain": [
              "array([[8.08872938e-01],\n",
              "       [8.33545387e-01],\n",
              "       [8.11166525e-01],\n",
              "       [4.30208184e-02],\n",
              "       [2.74651021e-01],\n",
              "       [9.99960899e-01],\n",
              "       [2.18663931e-01],\n",
              "       [9.88709509e-01],\n",
              "       [2.84027934e-01],\n",
              "       [1.25963673e-01],\n",
              "       [6.61273822e-02],\n",
              "       [4.45665866e-01],\n",
              "       [3.42692472e-02],\n",
              "       [2.30247170e-01],\n",
              "       [1.10264020e-02],\n",
              "       [3.89830619e-02],\n",
              "       [2.60299258e-02],\n",
              "       [1.74599171e-01],\n",
              "       [2.36104906e-01],\n",
              "       [6.08399332e-01],\n",
              "       [9.94816482e-01],\n",
              "       [1.37186318e-04],\n",
              "       [2.83807695e-01],\n",
              "       [6.55152183e-03],\n",
              "       [8.83741140e-01],\n",
              "       [9.96313989e-01],\n",
              "       [5.91544434e-03],\n",
              "       [1.43702782e-03],\n",
              "       [1.40686529e-02],\n",
              "       [1.01389773e-01],\n",
              "       [9.91747499e-01],\n",
              "       [9.94260386e-02],\n",
              "       [7.93132000e-03],\n",
              "       [4.02463585e-01],\n",
              "       [7.27238953e-02],\n",
              "       [1.10156037e-01],\n",
              "       [9.99749362e-01],\n",
              "       [3.77759188e-02],\n",
              "       [3.19909602e-02],\n",
              "       [4.03692752e-01],\n",
              "       [2.75839984e-01],\n",
              "       [1.16919741e-01],\n",
              "       [3.78345288e-02],\n",
              "       [5.62784709e-02],\n",
              "       [8.06271672e-01],\n",
              "       [9.96735394e-01],\n",
              "       [4.47510816e-02],\n",
              "       [9.21000183e-01],\n",
              "       [1.50950879e-01],\n",
              "       [5.35794258e-01],\n",
              "       [2.43051704e-02],\n",
              "       [3.33074212e-01],\n",
              "       [9.87224355e-02],\n",
              "       [3.27295773e-02],\n",
              "       [3.28865871e-02],\n",
              "       [1.18567897e-02],\n",
              "       [3.95926535e-01],\n",
              "       [9.54102337e-01],\n",
              "       [1.06988698e-01],\n",
              "       [1.94264133e-03],\n",
              "       [1.47895202e-01],\n",
              "       [9.99973059e-01],\n",
              "       [6.73303828e-02],\n",
              "       [1.18325688e-02],\n",
              "       [9.29072618e-01],\n",
              "       [9.99866247e-01],\n",
              "       [9.37783897e-01],\n",
              "       [3.27684432e-01],\n",
              "       [7.43753985e-02],\n",
              "       [2.86551595e-01],\n",
              "       [5.56082325e-03],\n",
              "       [1.19434437e-02],\n",
              "       [8.48191738e-01],\n",
              "       [2.68476695e-04],\n",
              "       [2.19034135e-01],\n",
              "       [2.80770481e-01],\n",
              "       [1.72944173e-01],\n",
              "       [2.60507673e-01],\n",
              "       [4.09293920e-01],\n",
              "       [5.75266063e-01],\n",
              "       [3.30440253e-01],\n",
              "       [1.28729016e-01],\n",
              "       [9.99770224e-01],\n",
              "       [9.89809260e-03],\n",
              "       [9.79286656e-02],\n",
              "       [1.25129849e-01],\n",
              "       [7.99720408e-04],\n",
              "       [5.92361800e-02],\n",
              "       [9.08901453e-01],\n",
              "       [8.47146332e-01],\n",
              "       [9.81440008e-01],\n",
              "       [1.57749210e-03],\n",
              "       [2.09586844e-01],\n",
              "       [6.30486384e-03],\n",
              "       [9.99990821e-01],\n",
              "       [8.27556968e-01],\n",
              "       [6.64299309e-01],\n",
              "       [7.07485318e-01],\n",
              "       [9.41210568e-01],\n",
              "       [7.21589208e-01],\n",
              "       [9.27265644e-01],\n",
              "       [1.62969351e-01],\n",
              "       [4.94931303e-02],\n",
              "       [2.16971919e-01],\n",
              "       [9.95946586e-01],\n",
              "       [4.41383943e-02],\n",
              "       [5.78855574e-01],\n",
              "       [9.11873877e-01],\n",
              "       [2.21231161e-03],\n",
              "       [9.09688830e-01],\n",
              "       [6.04583383e-01],\n",
              "       [7.05282390e-02],\n",
              "       [3.63700017e-02],\n",
              "       [2.25162953e-02],\n",
              "       [2.34138928e-02],\n",
              "       [3.56650293e-01],\n",
              "       [5.23068905e-01],\n",
              "       [8.51876259e-01],\n",
              "       [9.56219018e-01],\n",
              "       [1.12978108e-01],\n",
              "       [9.99998212e-01],\n",
              "       [3.78443241e-01],\n",
              "       [7.77775764e-01],\n",
              "       [5.46157718e-01],\n",
              "       [9.34353709e-01],\n",
              "       [7.20432997e-01],\n",
              "       [7.81600416e-01],\n",
              "       [1.17209397e-01],\n",
              "       [3.02473549e-02],\n",
              "       [8.94913733e-01],\n",
              "       [1.23297106e-02],\n",
              "       [9.99998212e-01],\n",
              "       [9.99999642e-01],\n",
              "       [9.96313989e-01],\n",
              "       [9.99822795e-01],\n",
              "       [1.79639071e-01],\n",
              "       [9.87411559e-01],\n",
              "       [2.38832459e-01],\n",
              "       [7.69792140e-01],\n",
              "       [1.90146249e-02],\n",
              "       [9.99632478e-01],\n",
              "       [6.05210483e-01],\n",
              "       [2.30247170e-01],\n",
              "       [9.37862277e-01],\n",
              "       [8.33072141e-02],\n",
              "       [5.67283809e-01],\n",
              "       [7.23052174e-02],\n",
              "       [3.06629036e-02],\n",
              "       [1.15728892e-01],\n",
              "       [9.99086261e-01],\n",
              "       [5.83785446e-03],\n",
              "       [8.14555120e-03],\n",
              "       [9.87208784e-01],\n",
              "       [9.56610322e-01],\n",
              "       [2.21428543e-01],\n",
              "       [9.96287227e-01],\n",
              "       [6.71580136e-01],\n",
              "       [8.77479553e-01],\n",
              "       [9.68579352e-01],\n",
              "       [4.08719778e-02],\n",
              "       [9.31543171e-01],\n",
              "       [1.92519054e-02],\n",
              "       [1.33449540e-01],\n",
              "       [8.35190415e-01],\n",
              "       [3.30847085e-01],\n",
              "       [2.18264401e-01],\n",
              "       [9.99908209e-01],\n",
              "       [4.24058616e-01],\n",
              "       [9.51232135e-01],\n",
              "       [2.74464071e-01],\n",
              "       [9.90959167e-01],\n",
              "       [5.27115166e-01],\n",
              "       [5.13606906e-01],\n",
              "       [4.80268262e-02],\n",
              "       [9.99708235e-01],\n",
              "       [3.35059837e-02],\n",
              "       [5.14196396e-01],\n",
              "       [5.57635367e-01],\n",
              "       [9.07987595e-01],\n",
              "       [9.99318957e-01],\n",
              "       [2.69744601e-02],\n",
              "       [9.30678964e-01],\n",
              "       [9.89522517e-01],\n",
              "       [9.52001631e-01],\n",
              "       [9.96671021e-01],\n",
              "       [4.33579654e-01],\n",
              "       [3.37819476e-03],\n",
              "       [9.99964118e-01],\n",
              "       [4.47860919e-02],\n",
              "       [1.35369999e-02],\n",
              "       [2.00889073e-02],\n",
              "       [8.96262109e-01],\n",
              "       [6.44316077e-02],\n",
              "       [7.53572285e-01],\n",
              "       [3.78948171e-05],\n",
              "       [9.39409956e-02],\n",
              "       [3.24040838e-02],\n",
              "       [3.43992263e-01],\n",
              "       [4.78771776e-01],\n",
              "       [2.67351442e-03],\n",
              "       [7.83681050e-02],\n",
              "       [6.57789409e-02],\n",
              "       [9.83176351e-01],\n",
              "       [5.14442623e-01],\n",
              "       [8.14377666e-01],\n",
              "       [9.99969482e-01],\n",
              "       [2.19887689e-01],\n",
              "       [7.93043375e-01],\n",
              "       [4.61528838e-01],\n",
              "       [9.68232870e-01],\n",
              "       [4.89585102e-01],\n",
              "       [9.99994993e-01],\n",
              "       [6.84977472e-02],\n",
              "       [3.71421248e-01],\n",
              "       [2.77173072e-02],\n",
              "       [1.71956755e-02],\n",
              "       [9.91821170e-01],\n",
              "       [7.99354613e-01],\n",
              "       [8.66580248e-01],\n",
              "       [8.01309422e-02],\n",
              "       [4.12619323e-01],\n",
              "       [9.79958177e-02],\n",
              "       [2.86714077e-01],\n",
              "       [2.50579000e-01],\n",
              "       [9.97854531e-01],\n",
              "       [4.33282293e-02],\n",
              "       [2.33471543e-01],\n",
              "       [9.99890327e-01],\n",
              "       [9.05349672e-01],\n",
              "       [2.99698651e-01],\n",
              "       [1.54667616e-01],\n",
              "       [3.75860840e-01],\n",
              "       [9.39637780e-01],\n",
              "       [4.44661468e-01],\n",
              "       [8.76064360e-01],\n",
              "       [8.67842585e-02],\n",
              "       [8.03392649e-01],\n",
              "       [4.54181552e-01],\n",
              "       [1.20309507e-02],\n",
              "       [2.57079564e-02],\n",
              "       [4.92058694e-01],\n",
              "       [8.63596201e-02],\n",
              "       [9.99989867e-01],\n",
              "       [9.95777488e-01],\n",
              "       [4.85313274e-02],\n",
              "       [1.98440682e-02],\n",
              "       [9.91678476e-01],\n",
              "       [2.34459434e-02],\n",
              "       [2.37444729e-01],\n",
              "       [7.82488167e-01],\n",
              "       [2.02599779e-01],\n",
              "       [7.32450545e-01],\n",
              "       [1.61706991e-02],\n",
              "       [6.73892438e-01],\n",
              "       [5.44963479e-01],\n",
              "       [9.88803729e-02],\n",
              "       [5.69197416e-01],\n",
              "       [9.99479234e-01],\n",
              "       [1.71547279e-01],\n",
              "       [1.25244400e-02],\n",
              "       [5.23464441e-01],\n",
              "       [6.05390873e-03],\n",
              "       [4.74835793e-03],\n",
              "       [9.99458373e-01],\n",
              "       [9.72406328e-01],\n",
              "       [7.70847201e-01],\n",
              "       [9.77185428e-01],\n",
              "       [2.20764503e-01],\n",
              "       [1.56772614e-01],\n",
              "       [2.12877169e-02],\n",
              "       [3.47626150e-01],\n",
              "       [2.05653775e-02],\n",
              "       [9.57032800e-01],\n",
              "       [3.76503877e-02],\n",
              "       [1.36578232e-01],\n",
              "       [9.87805128e-01],\n",
              "       [1.41921137e-02],\n",
              "       [2.45412886e-02],\n",
              "       [9.97657418e-01],\n",
              "       [4.39717360e-02],\n",
              "       [1.32300317e-01],\n",
              "       [1.69120714e-04],\n",
              "       [6.43810451e-01],\n",
              "       [7.20856607e-01],\n",
              "       [3.44832748e-01],\n",
              "       [3.21810395e-01],\n",
              "       [1.13037236e-01],\n",
              "       [2.27067191e-02],\n",
              "       [9.94712472e-01],\n",
              "       [7.18665943e-02],\n",
              "       [1.89913616e-01],\n",
              "       [6.62103891e-02],\n",
              "       [4.33891624e-01],\n",
              "       [1.83702335e-01],\n",
              "       [5.32444060e-01],\n",
              "       [5.86974144e-01],\n",
              "       [1.28936870e-02],\n",
              "       [7.07194030e-01],\n",
              "       [4.62400556e-01],\n",
              "       [8.95986974e-01],\n",
              "       [5.64234070e-02],\n",
              "       [1.97854221e-01],\n",
              "       [3.02332371e-01],\n",
              "       [9.96182382e-01],\n",
              "       [4.19575542e-01],\n",
              "       [6.76122168e-03],\n",
              "       [5.96014380e-01],\n",
              "       [2.04368308e-01],\n",
              "       [9.00362954e-02],\n",
              "       [1.91214343e-03],\n",
              "       [1.66583225e-01],\n",
              "       [9.91937339e-01],\n",
              "       [6.41490281e-01],\n",
              "       [6.13887250e-01],\n",
              "       [9.99995470e-01],\n",
              "       [4.72365580e-02],\n",
              "       [9.29273129e-01],\n",
              "       [7.66361505e-02],\n",
              "       [3.18837203e-02],\n",
              "       [1.75894499e-01],\n",
              "       [4.75690067e-02],\n",
              "       [1.06739186e-01],\n",
              "       [9.86919224e-01],\n",
              "       [6.15922641e-03],\n",
              "       [8.86073053e-01],\n",
              "       [9.42625329e-02],\n",
              "       [8.47327989e-03],\n",
              "       [9.99259770e-01],\n",
              "       [3.66740637e-02],\n",
              "       [9.94845629e-01],\n",
              "       [3.75571698e-01],\n",
              "       [7.90521968e-03],\n",
              "       [9.99933958e-01],\n",
              "       [1.08950650e-02],\n",
              "       [7.14079589e-02],\n",
              "       [9.94859695e-01],\n",
              "       [8.61957844e-04],\n",
              "       [5.71254611e-01],\n",
              "       [9.98685777e-01],\n",
              "       [9.90295529e-01],\n",
              "       [1.81740652e-05],\n",
              "       [2.11995080e-01],\n",
              "       [9.33742046e-01],\n",
              "       [9.96794283e-01],\n",
              "       [9.62992013e-01],\n",
              "       [3.32552083e-02],\n",
              "       [5.22080779e-01],\n",
              "       [2.93211062e-02],\n",
              "       [3.76029452e-03],\n",
              "       [2.18431816e-01],\n",
              "       [1.67654566e-02],\n",
              "       [6.14122868e-01],\n",
              "       [4.51252252e-01],\n",
              "       [6.90726221e-01],\n",
              "       [6.84343204e-02],\n",
              "       [7.31396303e-02],\n",
              "       [9.99988317e-01],\n",
              "       [9.96313989e-01],\n",
              "       [9.14681017e-01],\n",
              "       [1.11862726e-03],\n",
              "       [1.59544781e-01],\n",
              "       [5.26525527e-02],\n",
              "       [6.28207549e-02],\n",
              "       [5.54978669e-01],\n",
              "       [3.26788634e-01],\n",
              "       [1.89028475e-02],\n",
              "       [7.86596065e-05],\n",
              "       [1.61760710e-02],\n",
              "       [9.68179107e-01],\n",
              "       [1.54128838e-02],\n",
              "       [1.89017087e-01],\n",
              "       [3.54737565e-02],\n",
              "       [8.93401653e-02],\n",
              "       [6.64876759e-01],\n",
              "       [3.08438092e-02],\n",
              "       [4.29114699e-01],\n",
              "       [2.76544876e-02],\n",
              "       [2.87247752e-03],\n",
              "       [3.90739590e-02],\n",
              "       [9.98172164e-01],\n",
              "       [9.97733951e-01],\n",
              "       [9.64272082e-01],\n",
              "       [7.74271846e-01],\n",
              "       [8.40255395e-02],\n",
              "       [3.26831251e-01],\n",
              "       [9.99943495e-01],\n",
              "       [6.72890067e-01],\n",
              "       [3.06495339e-01],\n",
              "       [9.99850154e-01],\n",
              "       [5.59806302e-02],\n",
              "       [8.67739677e-01],\n",
              "       [8.54917169e-01],\n",
              "       [1.72592923e-02],\n",
              "       [3.82351190e-01],\n",
              "       [2.47070879e-01],\n",
              "       [9.99940157e-01],\n",
              "       [1.60527490e-02],\n",
              "       [3.90836261e-02],\n",
              "       [2.39787642e-02],\n",
              "       [3.26788634e-01],\n",
              "       [9.99863625e-01],\n",
              "       [2.07148977e-02],\n",
              "       [8.78390670e-01],\n",
              "       [8.61743689e-01],\n",
              "       [1.26246763e-02],\n",
              "       [9.99998212e-01],\n",
              "       [4.95134294e-02],\n",
              "       [5.84393740e-01],\n",
              "       [1.60635225e-02],\n",
              "       [1.41445577e-01],\n",
              "       [9.38987374e-01],\n",
              "       [4.75694835e-02],\n",
              "       [8.19147273e-04],\n",
              "       [1.24351513e-02],\n",
              "       [9.56502140e-01],\n",
              "       [7.59024918e-01],\n",
              "       [1.03489585e-01],\n",
              "       [5.52355452e-03],\n",
              "       [3.62816602e-01],\n",
              "       [3.42994928e-03],\n",
              "       [9.91008937e-01],\n",
              "       [9.91098225e-01],\n",
              "       [9.99786198e-01],\n",
              "       [9.75785673e-01],\n",
              "       [4.23043855e-02],\n",
              "       [5.85983217e-01],\n",
              "       [4.66178179e-01],\n",
              "       [5.25875449e-01],\n",
              "       [3.29497993e-01],\n",
              "       [6.62515461e-01],\n",
              "       [3.91109893e-03],\n",
              "       [2.12861985e-01],\n",
              "       [1.80098012e-01],\n",
              "       [1.95912514e-02],\n",
              "       [7.89529877e-05],\n",
              "       [4.70771849e-01],\n",
              "       [5.61620533e-01],\n",
              "       [4.39351469e-01],\n",
              "       [9.98536110e-01],\n",
              "       [9.96182382e-01],\n",
              "       [3.62329006e-01],\n",
              "       [8.33545387e-01],\n",
              "       [7.43099809e-01],\n",
              "       [4.48442949e-03],\n",
              "       [3.40646535e-01],\n",
              "       [9.90062654e-01],\n",
              "       [6.26080297e-03],\n",
              "       [8.70442092e-02],\n",
              "       [6.88687805e-03],\n",
              "       [8.74880075e-01],\n",
              "       [3.13150027e-04],\n",
              "       [9.87183809e-01],\n",
              "       [9.81265247e-01],\n",
              "       [9.99465644e-01],\n",
              "       [9.90047276e-01],\n",
              "       [8.62031341e-01],\n",
              "       [3.74828978e-03],\n",
              "       [3.15562606e-01],\n",
              "       [8.50096762e-01],\n",
              "       [9.46347952e-01],\n",
              "       [9.96445358e-01],\n",
              "       [2.34744715e-04],\n",
              "       [1.03537709e-01],\n",
              "       [4.30756360e-01],\n",
              "       [9.99446809e-01],\n",
              "       [9.99999642e-01],\n",
              "       [8.71070996e-02],\n",
              "       [5.09273000e-02],\n",
              "       [9.93090212e-01],\n",
              "       [6.61838043e-04],\n",
              "       [9.10130799e-01],\n",
              "       [3.51394236e-01],\n",
              "       [4.20994222e-01],\n",
              "       [5.46564721e-03],\n",
              "       [5.63167095e-01],\n",
              "       [4.48414564e-01],\n",
              "       [8.61044049e-01],\n",
              "       [5.84566474e-01],\n",
              "       [1.29662233e-03],\n",
              "       [1.94308609e-01],\n",
              "       [4.99634594e-02],\n",
              "       [2.21750190e-04],\n",
              "       [5.32351360e-02],\n",
              "       [9.73536193e-01],\n",
              "       [1.33365195e-03],\n",
              "       [8.38062882e-01],\n",
              "       [1.26455128e-01],\n",
              "       [5.48100024e-02],\n",
              "       [2.16161504e-01],\n",
              "       [6.24193400e-02],\n",
              "       [3.12789559e-01],\n",
              "       [9.97823477e-01],\n",
              "       [5.27255237e-01],\n",
              "       [2.62961094e-03],\n",
              "       [1.97410434e-01],\n",
              "       [4.68760550e-01],\n",
              "       [1.12485664e-04],\n",
              "       [8.64382744e-01],\n",
              "       [6.96611684e-03],\n",
              "       [9.33814287e-01],\n",
              "       [8.33679974e-01],\n",
              "       [5.84046721e-01],\n",
              "       [2.27911919e-01],\n",
              "       [3.67273957e-01],\n",
              "       [2.65781907e-03],\n",
              "       [2.91137308e-01],\n",
              "       [3.02374363e-01],\n",
              "       [9.24828827e-01],\n",
              "       [2.75408495e-02],\n",
              "       [3.61817062e-01],\n",
              "       [8.46774578e-02],\n",
              "       [1.12263538e-01],\n",
              "       [3.16730827e-01],\n",
              "       [4.95267093e-01],\n",
              "       [8.25466692e-01],\n",
              "       [8.42519850e-02],\n",
              "       [9.95042324e-01],\n",
              "       [9.98929441e-01],\n",
              "       [8.27556968e-01],\n",
              "       [9.99561489e-01],\n",
              "       [7.40615427e-02],\n",
              "       [1.23720177e-01],\n",
              "       [9.94581997e-01],\n",
              "       [1.68436188e-02],\n",
              "       [2.76876474e-03],\n",
              "       [1.71645224e-01],\n",
              "       [4.08031940e-01],\n",
              "       [1.55943679e-04],\n",
              "       [9.44977939e-01],\n",
              "       [6.75104022e-01],\n",
              "       [9.91924703e-01],\n",
              "       [9.96624351e-01],\n",
              "       [4.82168980e-02],\n",
              "       [9.58502963e-02],\n",
              "       [8.17028940e-01],\n",
              "       [9.65354815e-02],\n",
              "       [9.26802158e-02],\n",
              "       [2.20390201e-01],\n",
              "       [8.06747735e-01],\n",
              "       [2.47095108e-01],\n",
              "       [3.30223925e-02],\n",
              "       [1.66605727e-03],\n",
              "       [7.51165152e-01],\n",
              "       [6.02795243e-01],\n",
              "       [1.89404771e-01],\n",
              "       [7.89650716e-03],\n",
              "       [2.06975922e-01],\n",
              "       [9.92055833e-01],\n",
              "       [9.19653893e-01],\n",
              "       [2.32082322e-01],\n",
              "       [9.92752910e-01],\n",
              "       [9.99256551e-01],\n",
              "       [2.10619532e-06],\n",
              "       [7.75299311e-01],\n",
              "       [1.21150101e-02],\n",
              "       [1.35750949e-01],\n",
              "       [3.08130413e-01],\n",
              "       [1.26097172e-01],\n",
              "       [5.03410250e-02],\n",
              "       [5.34749404e-02],\n",
              "       [6.93399534e-02],\n",
              "       [2.91746035e-02],\n",
              "       [1.76140398e-01],\n",
              "       [7.03398347e-01],\n",
              "       [9.99494433e-01],\n",
              "       [1.38654225e-02],\n",
              "       [6.40292108e-01],\n",
              "       [3.30831945e-01],\n",
              "       [6.23348691e-02],\n",
              "       [2.74633586e-01],\n",
              "       [9.93767023e-01],\n",
              "       [5.59249759e-01],\n",
              "       [9.60843563e-01],\n",
              "       [1.40079081e-01],\n",
              "       [5.40674254e-02],\n",
              "       [7.67855525e-01],\n",
              "       [6.32899940e-01],\n",
              "       [1.86640546e-01],\n",
              "       [9.99256551e-01],\n",
              "       [2.72406548e-01],\n",
              "       [1.55060003e-02],\n",
              "       [5.26693203e-02],\n",
              "       [9.99890924e-01],\n",
              "       [1.48319080e-02],\n",
              "       [2.80778445e-02],\n",
              "       [5.87499499e-01],\n",
              "       [6.97894080e-04],\n",
              "       [8.09390843e-02],\n",
              "       [3.27454686e-01],\n",
              "       [1.59863159e-01],\n",
              "       [4.13903547e-03],\n",
              "       [4.25307721e-01],\n",
              "       [3.12079489e-02],\n",
              "       [5.54218888e-04],\n",
              "       [8.51903409e-02],\n",
              "       [1.73648074e-02],\n",
              "       [7.79335499e-02],\n",
              "       [9.95631337e-01],\n",
              "       [7.23149721e-03],\n",
              "       [6.93743050e-01],\n",
              "       [1.96290831e-03],\n",
              "       [1.30186405e-03],\n",
              "       [9.75822449e-01],\n",
              "       [6.65969193e-01],\n",
              "       [9.99897957e-01],\n",
              "       [2.20707536e-01],\n",
              "       [6.27662420e-01],\n",
              "       [9.92336869e-02],\n",
              "       [3.12814564e-02],\n",
              "       [7.96528518e-01],\n",
              "       [7.22925251e-05],\n",
              "       [5.79515278e-01],\n",
              "       [2.83285324e-02],\n",
              "       [1.79730743e-01],\n",
              "       [9.86853600e-01],\n",
              "       [1.15169294e-01],\n",
              "       [1.97752528e-02],\n",
              "       [1.39328614e-01],\n",
              "       [1.31182587e-02],\n",
              "       [4.00363028e-01],\n",
              "       [9.99969482e-01],\n",
              "       [4.17047590e-01],\n",
              "       [9.86423314e-01],\n",
              "       [4.02122810e-02],\n",
              "       [8.72354507e-01],\n",
              "       [4.50308889e-01],\n",
              "       [4.20994222e-01],\n",
              "       [3.81475016e-02],\n",
              "       [7.82859862e-01],\n",
              "       [2.63848063e-02],\n",
              "       [1.95836276e-01],\n",
              "       [2.11223230e-01],\n",
              "       [9.31920946e-01],\n",
              "       [9.99774516e-01],\n",
              "       [3.50659847e-01],\n",
              "       [8.82996060e-03],\n",
              "       [6.23683691e-01],\n",
              "       [1.74393300e-02],\n",
              "       [3.67586255e-01],\n",
              "       [1.23824693e-01],\n",
              "       [8.97522330e-01],\n",
              "       [2.13243634e-01],\n",
              "       [6.29629433e-01],\n",
              "       [3.79734755e-01],\n",
              "       [6.09640300e-01],\n",
              "       [4.13689643e-01],\n",
              "       [3.61817062e-01],\n",
              "       [2.17967182e-01],\n",
              "       [7.42049932e-01],\n",
              "       [9.69213724e-01],\n",
              "       [9.99963641e-01],\n",
              "       [5.15762949e-04],\n",
              "       [1.07876910e-02],\n",
              "       [1.44591816e-02],\n",
              "       [2.93507546e-01],\n",
              "       [5.38418368e-02],\n",
              "       [4.48340364e-02],\n",
              "       [7.91325867e-01],\n",
              "       [1.32322982e-01],\n",
              "       [1.55334577e-01],\n",
              "       [2.63941526e-01],\n",
              "       [2.86203951e-01],\n",
              "       [9.31491256e-01],\n",
              "       [7.42247626e-02],\n",
              "       [9.52306807e-01],\n",
              "       [7.13001370e-01],\n",
              "       [1.08036697e-01],\n",
              "       [4.13022041e-02],\n",
              "       [9.99847651e-01],\n",
              "       [8.03433418e-01],\n",
              "       [3.83752660e-04],\n",
              "       [1.77816078e-01],\n",
              "       [9.42647681e-02],\n",
              "       [2.90309370e-01],\n",
              "       [9.31725323e-01],\n",
              "       [1.31232619e-01],\n",
              "       [6.10999346e-01],\n",
              "       [2.68200971e-02],\n",
              "       [1.58842374e-02],\n",
              "       [8.63328755e-01],\n",
              "       [5.84443174e-02],\n",
              "       [4.95509757e-03],\n",
              "       [1.10250182e-01],\n",
              "       [8.25713724e-02],\n",
              "       [6.59866259e-02],\n",
              "       [9.66418266e-01],\n",
              "       [6.89243749e-02],\n",
              "       [1.30922988e-01],\n",
              "       [1.55943679e-04],\n",
              "       [1.97674245e-01],\n",
              "       [9.71174836e-01],\n",
              "       [9.99998212e-01],\n",
              "       [9.99430835e-01],\n",
              "       [1.08967507e-02],\n",
              "       [9.99394536e-01],\n",
              "       [5.04716337e-01],\n",
              "       [2.62188502e-02],\n",
              "       [5.04716337e-01],\n",
              "       [8.52088869e-01],\n",
              "       [2.69425157e-02],\n",
              "       [5.88650286e-01],\n",
              "       [7.30746984e-03],\n",
              "       [9.94416952e-01],\n",
              "       [6.27164721e-01],\n",
              "       [9.69150960e-01],\n",
              "       [9.78960772e-04],\n",
              "       [3.88574898e-02],\n",
              "       [1.40229836e-02],\n",
              "       [4.22366522e-02],\n",
              "       [1.07495897e-01],\n",
              "       [1.28738452e-02],\n",
              "       [1.00096814e-01],\n",
              "       [7.94088483e-01],\n",
              "       [2.92690750e-02],\n",
              "       [3.57876793e-02],\n",
              "       [5.03774807e-02],\n",
              "       [1.74164936e-01],\n",
              "       [3.37199531e-02],\n",
              "       [9.89116848e-01],\n",
              "       [4.32072490e-01],\n",
              "       [8.23522270e-01],\n",
              "       [8.78547435e-04],\n",
              "       [2.98310250e-01],\n",
              "       [9.48951423e-01],\n",
              "       [5.39752424e-01],\n",
              "       [6.55675307e-02],\n",
              "       [1.28082689e-02],\n",
              "       [1.49313092e-01],\n",
              "       [9.69134808e-01],\n",
              "       [1.74164936e-01],\n",
              "       [4.80681211e-01],\n",
              "       [8.58173847e-01],\n",
              "       [9.99680996e-01],\n",
              "       [9.94861782e-01],\n",
              "       [9.99964714e-01],\n",
              "       [9.92724717e-01],\n",
              "       [1.06288768e-01],\n",
              "       [3.25927213e-02],\n",
              "       [6.13204241e-01],\n",
              "       [4.94066924e-01],\n",
              "       [9.99357760e-01],\n",
              "       [6.98233902e-01],\n",
              "       [1.70288488e-01],\n",
              "       [3.46671753e-02],\n",
              "       [3.83889318e-01],\n",
              "       [2.81313714e-03],\n",
              "       [3.82586837e-01],\n",
              "       [4.61019315e-02],\n",
              "       [4.74747062e-01],\n",
              "       [2.18926487e-03],\n",
              "       [1.27569839e-01],\n",
              "       [3.03553939e-01],\n",
              "       [7.20137656e-01],\n",
              "       [7.25793128e-04],\n",
              "       [9.64103103e-01],\n",
              "       [9.87206757e-01],\n",
              "       [8.00324827e-02],\n",
              "       [1.61166489e-01],\n",
              "       [6.11082733e-01],\n",
              "       [8.43337476e-01],\n",
              "       [1.69395804e-01],\n",
              "       [1.72099774e-03]], dtype=float32)"
            ]
          },
          "execution_count": 50,
          "metadata": {},
          "output_type": "execute_result"
        }
      ],
      "source": [
        "model_5_pred_probs = model_5.predict(val_sentences)\n",
        "model_5_pred_probs"
      ]
    },
    {
      "cell_type": "code",
      "execution_count": null,
      "metadata": {
        "colab": {
          "background_save": true
        },
        "id": "oRL8z0DzEteh"
      },
      "outputs": [],
      "source": [
        "model_5_preds = tf.squeeze(tf.round(model_5_pred_probs))"
      ]
    },
    {
      "cell_type": "code",
      "execution_count": null,
      "metadata": {
        "colab": {
          "background_save": true,
          "base_uri": "https://localhost:8080/"
        },
        "id": "sDLHU5N6E9_A",
        "outputId": "f2574234-354a-4517-9eee-d03afa31c60a"
      },
      "outputs": [
        {
          "data": {
            "text/plain": [
              "{'accuracy': 75.59055118110236,\n",
              " 'precision': 0.7573698742202679,\n",
              " 'recall': 0.7559055118110236,\n",
              " 'model_f1score': 0.7535524954357875}"
            ]
          },
          "execution_count": 52,
          "metadata": {},
          "output_type": "execute_result"
        }
      ],
      "source": [
        "model_5_result = calculate_result(val_labels, model_5_preds)\n",
        "model_5_result"
      ]
    },
    {
      "cell_type": "code",
      "execution_count": null,
      "metadata": {
        "colab": {
          "background_save": true
        },
        "id": "_xZ9IcUuFJUo"
      },
      "outputs": [],
      "source": [
        "import tensorflow_hub as hub\n",
        "embed = hub.load(\"https://tfhub.dev/google/universal-sentence-encoder/4\")\n",
        "embed_samples = embed([sample, \"This converts sentences into numbers\"])"
      ]
    },
    {
      "cell_type": "code",
      "execution_count": null,
      "metadata": {
        "colab": {
          "background_save": true,
          "base_uri": "https://localhost:8080/"
        },
        "id": "qntex3ddIWCA",
        "outputId": "72b8f293-f4c4-4726-b5ae-856d0564bf91"
      },
      "outputs": [
        {
          "name": "stderr",
          "output_type": "stream",
          "text": [
            "WARNING:absl:`lr` is deprecated in Keras optimizer, please use `learning_rate` or use the legacy optimizer, e.g.,tf.keras.optimizers.legacy.Adam.\n"
          ]
        }
      ],
      "source": [
        "sentences_encoder = hub.KerasLayer(\"https://tfhub.dev/google/universal-sentence-encoder/4\", input_shape = [], dtype = tf.string, trainable = False)\n",
        "model_6 = tf.keras.Sequential([\n",
        "    sentences_encoder,\n",
        "    layers.Dense(1, activation = \"sigmoid\")\n",
        "])\n",
        "model_6.compile(loss = \"binary_crossentropy\", optimizer = tf.keras.optimizers.Adam(lr = 0.0003), metrics = [\"accuracy\"])\n"
      ]
    },
    {
      "cell_type": "code",
      "execution_count": null,
      "metadata": {
        "colab": {
          "background_save": true,
          "base_uri": "https://localhost:8080/"
        },
        "id": "eVI6XELcL0zG",
        "outputId": "91ec8d10-030d-4534-b5c5-01cf2397e7ee"
      },
      "outputs": [
        {
          "name": "stdout",
          "output_type": "stream",
          "text": [
            "Saving TensorBoard log files to: model_logs/tf_hub_sentences_encoder/20230612-181825\n",
            "Epoch 1/5\n",
            "215/215 [==============================] - 7s 19ms/step - loss: 0.6480 - accuracy: 0.7343 - val_loss: 0.6128 - val_accuracy: 0.7848\n",
            "Epoch 2/5\n",
            "215/215 [==============================] - 3s 13ms/step - loss: 0.5810 - accuracy: 0.7870 - val_loss: 0.5633 - val_accuracy: 0.7835\n",
            "Epoch 3/5\n",
            "215/215 [==============================] - 3s 13ms/step - loss: 0.5381 - accuracy: 0.7929 - val_loss: 0.5313 - val_accuracy: 0.7874\n",
            "Epoch 4/5\n",
            "215/215 [==============================] - 3s 13ms/step - loss: 0.5095 - accuracy: 0.7968 - val_loss: 0.5104 - val_accuracy: 0.7900\n",
            "Epoch 5/5\n",
            "215/215 [==============================] - 4s 17ms/step - loss: 0.4895 - accuracy: 0.8000 - val_loss: 0.4961 - val_accuracy: 0.7887\n"
          ]
        }
      ],
      "source": [
        "model_6_history = model_6.fit(train_sentences, train_labels, epochs = 5, validation_data = (val_sentences, val_labels), callbacks = [create_tensorboard_callback(save_dir, \"tf_hub_sentences_encoder\")])"
      ]
    },
    {
      "cell_type": "code",
      "execution_count": null,
      "metadata": {
        "colab": {
          "background_save": true,
          "base_uri": "https://localhost:8080/"
        },
        "id": "wOxQfSTKNHTg",
        "outputId": "96fbd97c-7ec4-474f-8076-99200860f03a"
      },
      "outputs": [
        {
          "name": "stdout",
          "output_type": "stream",
          "text": [
            "24/24 [==============================] - 1s 10ms/step\n"
          ]
        },
        {
          "data": {
            "text/plain": [
              "<tf.Tensor: shape=(762,), dtype=float32, numpy=\n",
              "array([0., 1., 1., 0., 1., 1., 1., 1., 1., 0., 1., 1., 0., 0., 0., 0., 0.,\n",
              "       0., 0., 1., 1., 0., 0., 0., 1., 1., 0., 0., 0., 0., 1., 1., 0., 0.,\n",
              "       1., 0., 1., 0., 0., 1., 0., 0., 1., 1., 0., 1., 0., 1., 1., 1., 0.,\n",
              "       1., 0., 0., 0., 0., 0., 1., 0., 0., 0., 1., 1., 0., 1., 1., 0., 0.,\n",
              "       0., 1., 0., 0., 1., 0., 0., 1., 0., 0., 0., 1., 1., 1., 1., 0., 0.,\n",
              "       1., 0., 0., 1., 1., 1., 0., 0., 0., 1., 1., 1., 1., 1., 1., 1., 0.,\n",
              "       0., 1., 1., 0., 1., 1., 0., 1., 1., 0., 0., 0., 0., 1., 1., 1., 1.,\n",
              "       1., 1., 0., 0., 1., 1., 0., 0., 0., 0., 0., 0., 1., 1., 1., 1., 0.,\n",
              "       1., 0., 0., 0., 1., 0., 0., 0., 1., 0., 0., 0., 0., 1., 1., 0., 1.,\n",
              "       0., 0., 1., 0., 0., 1., 0., 1., 0., 0., 1., 0., 0., 1., 0., 1., 0.,\n",
              "       1., 1., 1., 0., 1., 0., 1., 0., 1., 1., 0., 1., 1., 1., 1., 0., 0.,\n",
              "       1., 1., 0., 0., 1., 0., 1., 0., 0., 0., 0., 0., 0., 0., 1., 1., 0.,\n",
              "       0., 1., 0., 1., 1., 1., 0., 1., 0., 0., 0., 0., 1., 1., 1., 0., 1.,\n",
              "       0., 0., 0., 1., 0., 0., 1., 1., 0., 1., 0., 1., 0., 1., 0., 0., 0.,\n",
              "       1., 0., 0., 0., 1., 1., 0., 0., 1., 0., 0., 1., 0., 1., 0., 0., 1.,\n",
              "       0., 1., 1., 0., 0., 1., 0., 0., 1., 1., 1., 1., 0., 0., 0., 0., 0.,\n",
              "       1., 0., 0., 1., 1., 0., 1., 1., 0., 0., 1., 0., 0., 1., 0., 0., 1.,\n",
              "       0., 1., 0., 1., 1., 0., 1., 0., 1., 0., 1., 1., 0., 0., 1., 0., 0.,\n",
              "       0., 1., 0., 0., 0., 1., 1., 0., 1., 0., 1., 1., 0., 0., 0., 0., 1.,\n",
              "       0., 1., 0., 0., 1., 0., 1., 1., 0., 1., 0., 0., 1., 0., 1., 0., 0.,\n",
              "       0., 0., 1., 1., 1., 0., 0., 0., 0., 0., 0., 0., 0., 0., 0., 0., 1.,\n",
              "       1., 1., 0., 1., 0., 1., 0., 1., 0., 0., 0., 0., 0., 1., 0., 0., 0.,\n",
              "       0., 0., 0., 0., 0., 0., 1., 1., 0., 0., 0., 1., 0., 0., 1., 0., 0.,\n",
              "       0., 0., 1., 0., 1., 0., 1., 0., 1., 1., 0., 1., 1., 0., 1., 0., 0.,\n",
              "       0., 0., 1., 0., 0., 0., 1., 1., 0., 1., 0., 0., 1., 1., 1., 1., 0.,\n",
              "       1., 0., 1., 0., 1., 0., 0., 0., 1., 0., 0., 0., 1., 1., 1., 1., 1.,\n",
              "       0., 0., 0., 1., 0., 0., 0., 0., 0., 1., 1., 1., 1., 1., 0., 0., 1.,\n",
              "       1., 1., 0., 0., 0., 1., 1., 0., 0., 1., 0., 0., 1., 1., 0., 0., 1.,\n",
              "       1., 1., 0., 0., 1., 0., 0., 1., 0., 0., 0., 0., 0., 0., 0., 1., 0.,\n",
              "       0., 0., 0., 0., 1., 0., 1., 1., 0., 0., 1., 0., 1., 0., 1., 0., 0.,\n",
              "       0., 0., 0., 0., 1., 0., 1., 1., 1., 1., 0., 0., 1., 1., 0., 0., 0.,\n",
              "       0., 1., 1., 1., 1., 0., 0., 1., 0., 0., 0., 0., 1., 0., 0., 0., 0.,\n",
              "       0., 0., 1., 1., 1., 1., 1., 1., 0., 1., 0., 1., 0., 0., 1., 0., 0.,\n",
              "       0., 1., 1., 1., 0., 1., 1., 0., 0., 1., 1., 1., 0., 0., 0., 0., 1.,\n",
              "       1., 0., 0., 0., 1., 0., 0., 1., 0., 0., 1., 0., 0., 0., 1., 0., 0.,\n",
              "       1., 0., 1., 1., 0., 0., 0., 1., 0., 1., 0., 0., 0., 0., 1., 0., 1.,\n",
              "       0., 0., 1., 0., 0., 1., 0., 1., 1., 0., 1., 0., 1., 0., 1., 0., 0.,\n",
              "       0., 1., 1., 0., 1., 1., 0., 1., 0., 1., 0., 1., 0., 1., 0., 0., 0.,\n",
              "       0., 0., 0., 1., 1., 0., 0., 0., 0., 0., 0., 1., 0., 0., 0., 0., 1.,\n",
              "       0., 0., 0., 0., 0., 1., 0., 0., 0., 0., 0., 1., 0., 1., 1., 0., 0.,\n",
              "       0., 0., 1., 1., 0., 1., 0., 0., 0., 0., 1., 1., 0., 0., 1., 1., 1.,\n",
              "       1., 1., 0., 0., 0., 1., 0., 0., 0., 0., 0., 0., 0., 0., 0., 1., 0.,\n",
              "       0., 0., 0., 0., 1., 0., 1., 0., 0., 1., 0., 0., 0., 0., 1., 0., 0.,\n",
              "       1., 1., 1., 1., 1., 0., 0., 0., 1., 1., 0., 0., 0., 1., 0., 0., 0.,\n",
              "       0., 0., 0., 1., 1., 0., 1., 1., 0., 0., 0., 1., 1., 0.],\n",
              "      dtype=float32)>"
            ]
          },
          "execution_count": 56,
          "metadata": {},
          "output_type": "execute_result"
        }
      ],
      "source": [
        "model_6_pred_probs = model_6.predict(val_sentences)\n",
        "model_6_pred = tf.squeeze(tf.round(model_6_pred_probs))\n",
        "model_6_pred"
      ]
    },
    {
      "cell_type": "code",
      "execution_count": null,
      "metadata": {
        "colab": {
          "background_save": true,
          "base_uri": "https://localhost:8080/"
        },
        "id": "yJ9YjG2ANtxW",
        "outputId": "7198070e-4dfc-43ad-c9a1-541a7fae39d6"
      },
      "outputs": [
        {
          "data": {
            "text/plain": [
              "{'accuracy': 78.87139107611549,\n",
              " 'precision': 0.7893127453028103,\n",
              " 'recall': 0.7887139107611548,\n",
              " 'model_f1score': 0.787504696224858}"
            ]
          },
          "execution_count": 57,
          "metadata": {},
          "output_type": "execute_result"
        }
      ],
      "source": [
        "model_6_result = calculate_result(val_labels, model_6_pred)\n",
        "model_6_result"
      ]
    },
    {
      "cell_type": "code",
      "execution_count": null,
      "metadata": {
        "colab": {
          "background_save": true
        },
        "id": "EG9eXLvsN5dx"
      },
      "outputs": [],
      "source": [
        "train_10_percent_split = int(0.1 *len(train_sentences))\n",
        "train_10_percent = train_sentences[:train_10_percent_split]\n",
        "train_labels_10_percent = train_labels[:train_10_percent_split]\n"
      ]
    },
    {
      "cell_type": "code",
      "execution_count": null,
      "metadata": {
        "colab": {
          "background_save": true
        },
        "id": "ZhV4y2fdQmlx"
      },
      "outputs": [],
      "source": [
        "model_7 = tf.keras.models.clone_model(model_6)"
      ]
    },
    {
      "cell_type": "code",
      "execution_count": null,
      "metadata": {
        "colab": {
          "background_save": true,
          "base_uri": "https://localhost:8080/"
        },
        "id": "2lRHxLYYQt91",
        "outputId": "345d9e78-c3da-462d-bb0a-2f3c01ca6182"
      },
      "outputs": [
        {
          "name": "stderr",
          "output_type": "stream",
          "text": [
            "WARNING:absl:`lr` is deprecated in Keras optimizer, please use `learning_rate` or use the legacy optimizer, e.g.,tf.keras.optimizers.legacy.Adam.\n"
          ]
        }
      ],
      "source": [
        "model_7.compile(loss = \"binary_crossentropy\", optimizer = tf.keras.optimizers.Adam(lr = 0.0003), metrics = [\"accuracy\"])"
      ]
    },
    {
      "cell_type": "code",
      "execution_count": null,
      "metadata": {
        "colab": {
          "background_save": true,
          "base_uri": "https://localhost:8080/"
        },
        "id": "XnATt9wDQ8ly",
        "outputId": "15e6a753-e058-40f8-d1c5-3bd19ad7448e"
      },
      "outputs": [
        {
          "name": "stdout",
          "output_type": "stream",
          "text": [
            "Saving TensorBoard log files to: model_logs/model_7_10_percent/20230612-181853\n",
            "Epoch 1/5\n",
            "22/22 [==============================] - 4s 47ms/step - loss: 0.6863 - accuracy: 0.5985 - val_loss: 0.6836 - val_accuracy: 0.6168\n",
            "Epoch 2/5\n",
            "22/22 [==============================] - 1s 25ms/step - loss: 0.6736 - accuracy: 0.6759 - val_loss: 0.6745 - val_accuracy: 0.6654\n",
            "Epoch 3/5\n",
            "22/22 [==============================] - 1s 27ms/step - loss: 0.6619 - accuracy: 0.7255 - val_loss: 0.6660 - val_accuracy: 0.6955\n",
            "Epoch 4/5\n",
            "22/22 [==============================] - 1s 27ms/step - loss: 0.6508 - accuracy: 0.7562 - val_loss: 0.6578 - val_accuracy: 0.7178\n",
            "Epoch 5/5\n",
            "22/22 [==============================] - 1s 24ms/step - loss: 0.6405 - accuracy: 0.7708 - val_loss: 0.6497 - val_accuracy: 0.7257\n"
          ]
        }
      ],
      "source": [
        "model_7_history = model_7.fit(train_10_percent, train_labels_10_percent, epochs= 5, validation_data = (val_sentences, val_labels), callbacks=[create_tensorboard_callback(save_dir, \"model_7_10_percent\")])"
      ]
    },
    {
      "cell_type": "code",
      "execution_count": null,
      "metadata": {
        "colab": {
          "background_save": true,
          "base_uri": "https://localhost:8080/"
        },
        "id": "JcSDpsU0RZFc",
        "outputId": "006331c0-8a4a-46f3-d305-adb4cd1efd8a"
      },
      "outputs": [
        {
          "name": "stdout",
          "output_type": "stream",
          "text": [
            "24/24 [==============================] - 1s 10ms/step\n"
          ]
        }
      ],
      "source": [
        "model_7_pred_probs = model_7.predict(val_sentences)"
      ]
    },
    {
      "cell_type": "code",
      "execution_count": null,
      "metadata": {
        "colab": {
          "background_save": true
        },
        "id": "GofXpeddRjvD"
      },
      "outputs": [],
      "source": [
        "model_7_preds = tf.squeeze(tf.round(model_7_pred_probs))"
      ]
    },
    {
      "cell_type": "code",
      "execution_count": null,
      "metadata": {
        "colab": {
          "background_save": true,
          "base_uri": "https://localhost:8080/"
        },
        "id": "VrFBy9u8R0FD",
        "outputId": "5ac484cd-b20a-47aa-c3d4-4162e3a0f5bd"
      },
      "outputs": [
        {
          "data": {
            "text/plain": [
              "{'accuracy': 72.57217847769029,\n",
              " 'precision': 0.7525701752909861,\n",
              " 'recall': 0.7257217847769029,\n",
              " 'model_f1score': 0.7112114207853204}"
            ]
          },
          "execution_count": 64,
          "metadata": {},
          "output_type": "execute_result"
        }
      ],
      "source": [
        "model_7_result = calculate_result(val_labels, model_7_preds)\n",
        "model_7_result"
      ]
    },
    {
      "cell_type": "code",
      "execution_count": null,
      "metadata": {
        "colab": {
          "background_save": true,
          "base_uri": "https://localhost:8080/"
        },
        "id": "FR_MxgNMR65h",
        "outputId": "b617ddfc-622a-4c1d-c47c-6d3780ab60dc"
      },
      "outputs": [
        {
          "name": "stdout",
          "output_type": "stream",
          "text": [
            "2023-06-12 18:19:04.261085: W tensorflow/compiler/tf2tensorrt/utils/py_utils.cc:38] TF-TRT Warning: Could not find TensorRT\n",
            "\n",
            "***** TensorBoard Uploader *****\n",
            "\n",
            "This will upload your TensorBoard logs to https://tensorboard.dev/ from\n",
            "the following directory:\n",
            "\n",
            "./model_logs/\n",
            "\n",
            "This TensorBoard will be visible to everyone. Do not upload sensitive\n",
            "data.\n",
            "\n",
            "Your use of this service is subject to Google's Terms of Service\n",
            "<https://policies.google.com/terms> and Privacy Policy\n",
            "<https://policies.google.com/privacy>, and TensorBoard.dev's Terms of Service\n",
            "<https://tensorboard.dev/policy/terms/>.\n",
            "\n",
            "This notice will not be shown again while you are logged into the uploader.\n",
            "To log out, run `tensorboard dev auth revoke`.\n",
            "\n",
            "Continue? (yes/NO) "
          ]
        }
      ],
      "source": [
        "!tensorboard dev upload --logdir ./model_logs/ \\\n",
        "  --name \"NLP Modelling Experiment\" \\\n",
        "  --description \"comapring multiple architecture\" \\\n",
        "  --one_shot"
      ]
    },
    {
      "cell_type": "code",
      "execution_count": null,
      "metadata": {
        "id": "2wzGE_oygXAa"
      },
      "outputs": [],
      "source": [
        "model_6.save(\"model_6.h5\")\n"
      ]
    },
    {
      "cell_type": "code",
      "execution_count": null,
      "metadata": {
        "id": "1e-iCyi1nXyv"
      },
      "outputs": [],
      "source": [
        "import tensorflow_hub as hub\n",
        "loaded_model_6 = tf.keras.models.load_model(\n",
        "       (\"model_6.h5\"),\n",
        "       custom_objects={'KerasLayer':hub.KerasLayer}\n",
        ")"
      ]
    },
    {
      "cell_type": "code",
      "execution_count": null,
      "metadata": {
        "colab": {
          "base_uri": "https://localhost:8080/"
        },
        "id": "yQgN4Q3koKeq",
        "outputId": "52447a61-620d-42cc-ca2b-d706f7edca21"
      },
      "outputs": [
        {
          "name": "stdout",
          "output_type": "stream",
          "text": [
            "24/24 [==============================] - 1s 23ms/step - loss: 0.4961 - accuracy: 0.7887\n"
          ]
        },
        {
          "data": {
            "text/plain": [
              "[0.4961186349391937, 0.7887139320373535]"
            ]
          },
          "execution_count": 84,
          "metadata": {},
          "output_type": "execute_result"
        }
      ],
      "source": [
        "loaded_model_6.evaluate(val_sentences, val_labels)"
      ]
    },
    {
      "cell_type": "code",
      "execution_count": null,
      "metadata": {
        "id": "fuyl_NzUp8_O"
      },
      "outputs": [],
      "source": [
        "model_6.save(\"model_6_save_format\")"
      ]
    },
    {
      "cell_type": "code",
      "execution_count": null,
      "metadata": {
        "id": "ZVQICiQPqocC"
      },
      "outputs": [],
      "source": [
        "load_model_6_saved_format = tf.keras.models.load_model(\"model_6_save_format\")"
      ]
    },
    {
      "cell_type": "code",
      "execution_count": null,
      "metadata": {
        "colab": {
          "base_uri": "https://localhost:8080/"
        },
        "id": "6wFZks_irE0m",
        "outputId": "22848b4a-d245-4241-f7e4-5cc8a621c71b"
      },
      "outputs": [
        {
          "name": "stdout",
          "output_type": "stream",
          "text": [
            "24/24 [==============================] - 1s 12ms/step - loss: 0.4961 - accuracy: 0.7887\n"
          ]
        },
        {
          "data": {
            "text/plain": [
              "[0.4961186349391937, 0.7887139320373535]"
            ]
          },
          "execution_count": 88,
          "metadata": {},
          "output_type": "execute_result"
        }
      ],
      "source": [
        "load_model_6_saved_format.evaluate(val_sentences, val_labels)"
      ]
    },
    {
      "cell_type": "code",
      "execution_count": null,
      "metadata": {
        "colab": {
          "base_uri": "https://localhost:8080/"
        },
        "id": "vpT_KyY3rQch",
        "outputId": "6afa4112-92ab-4af7-8235-5bc6d1aa845a"
      },
      "outputs": [
        {
          "name": "stdout",
          "output_type": "stream",
          "text": [
            "--2023-06-11 18:23:56--  https://storage.googleapis.com/ztm_tf_course/08_model_6_USE_feature_extractor.zip\n",
            "Resolving storage.googleapis.com (storage.googleapis.com)... 173.194.79.128, 108.177.119.128, 108.177.126.128, ...\n",
            "Connecting to storage.googleapis.com (storage.googleapis.com)|173.194.79.128|:443... connected.\n",
            "HTTP request sent, awaiting response... 200 OK\n",
            "Length: 960779165 (916M) [application/zip]\n",
            "Saving to: ‘08_model_6_USE_feature_extractor.zip’\n",
            "\n",
            "08_model_6_USE_feat 100%[===================>] 916.27M  32.8MB/s    in 29s     \n",
            "\n",
            "2023-06-11 18:24:24 (32.1 MB/s) - ‘08_model_6_USE_feature_extractor.zip’ saved [960779165/960779165]\n",
            "\n",
            "Archive:  08_model_6_USE_feature_extractor.zip\n",
            "   creating: 08_model_6_USE_feature_extractor/\n",
            "   creating: 08_model_6_USE_feature_extractor/assets/\n",
            "   creating: 08_model_6_USE_feature_extractor/variables/\n",
            "  inflating: 08_model_6_USE_feature_extractor/variables/variables.data-00000-of-00001  \n",
            "  inflating: 08_model_6_USE_feature_extractor/variables/variables.index  \n",
            "  inflating: 08_model_6_USE_feature_extractor/saved_model.pb  \n"
          ]
        }
      ],
      "source": [
        "!wget https://storage.googleapis.com/ztm_tf_course/08_model_6_USE_feature_extractor.zip\n",
        "!unzip 08_model_6_USE_feature_extractor.zip"
      ]
    },
    {
      "cell_type": "code",
      "execution_count": null,
      "metadata": {
        "colab": {
          "base_uri": "https://localhost:8080/"
        },
        "id": "dPKDgaTrsrx2",
        "outputId": "03e22f76-de7c-46ec-bae6-e1108b10983b"
      },
      "outputs": [
        {
          "name": "stderr",
          "output_type": "stream",
          "text": [
            "WARNING:tensorflow:SavedModel saved prior to TF 2.5 detected when loading Keras model. Please ensure that you are saving the model with model.save() or tf.keras.models.save_model(), *NOT* tf.saved_model.save(). To confirm, there should be a file named \"keras_metadata.pb\" in the SavedModel directory.\n"
          ]
        }
      ],
      "source": [
        "model_6_pretrained = tf.keras.models.load_model(\"08_model_6_USE_feature_extractor\")"
      ]
    },
    {
      "cell_type": "code",
      "execution_count": null,
      "metadata": {
        "colab": {
          "base_uri": "https://localhost:8080/"
        },
        "id": "duy8rgxrtExA",
        "outputId": "fb3c54aa-9eef-4060-a5e3-e5b0806a864f"
      },
      "outputs": [
        {
          "name": "stdout",
          "output_type": "stream",
          "text": [
            "24/24 [==============================] - 2s 22ms/step - loss: 0.4272 - accuracy: 0.8163\n"
          ]
        },
        {
          "data": {
            "text/plain": [
              "[0.42723119258880615, 0.8162729740142822]"
            ]
          },
          "execution_count": 92,
          "metadata": {},
          "output_type": "execute_result"
        }
      ],
      "source": [
        "model_6_pretrained.evaluate(val_sentences, val_labels)"
      ]
    },
    {
      "cell_type": "code",
      "execution_count": null,
      "metadata": {
        "colab": {
          "base_uri": "https://localhost:8080/"
        },
        "id": "ngZbG8nptLa6",
        "outputId": "d27ff39c-9b0c-4106-d92c-fb903a240f00"
      },
      "outputs": [
        {
          "name": "stdout",
          "output_type": "stream",
          "text": [
            "24/24 [==============================] - 1s 16ms/step\n"
          ]
        }
      ],
      "source": [
        "model_6_pretrained_preds_probs = model_6_pretrained.predict(val_sentences)\n",
        "model_6_pretrained_preds = tf.squeeze(tf.round(model_6_pretrained_preds_probs))"
      ]
    },
    {
      "cell_type": "code",
      "execution_count": null,
      "metadata": {
        "id": "x3tZt9uitwpc"
      },
      "outputs": [],
      "source": [
        "val_df = pd.DataFrame({\"text\": val_sentences, \"target\": val_labels, \"pred\": model_6_pretrained_preds, \"pred_probs\": tf.squeeze(model_6_pretrained_preds_probs)})"
      ]
    },
    {
      "cell_type": "code",
      "execution_count": null,
      "metadata": {
        "colab": {
          "base_uri": "https://localhost:8080/",
          "height": 424
        },
        "id": "po46WAm9u0Tw",
        "outputId": "8e5cd00b-02d1-43b4-8445-a73fb1fa9020"
      },
      "outputs": [
        {
          "data": {
            "text/html": [
              "\n",
              "  <div id=\"df-b9875aec-9a21-45ce-9027-b5377d040f56\">\n",
              "    <div class=\"colab-df-container\">\n",
              "      <div>\n",
              "<style scoped>\n",
              "    .dataframe tbody tr th:only-of-type {\n",
              "        vertical-align: middle;\n",
              "    }\n",
              "\n",
              "    .dataframe tbody tr th {\n",
              "        vertical-align: top;\n",
              "    }\n",
              "\n",
              "    .dataframe thead th {\n",
              "        text-align: right;\n",
              "    }\n",
              "</style>\n",
              "<table border=\"1\" class=\"dataframe\">\n",
              "  <thead>\n",
              "    <tr style=\"text-align: right;\">\n",
              "      <th></th>\n",
              "      <th>text</th>\n",
              "      <th>target</th>\n",
              "      <th>pred</th>\n",
              "      <th>pred_probs</th>\n",
              "    </tr>\n",
              "  </thead>\n",
              "  <tbody>\n",
              "    <tr>\n",
              "      <th>0</th>\n",
              "      <td>DFR EP016 Monthly Meltdown - On Dnbheaven 2015...</td>\n",
              "      <td>0</td>\n",
              "      <td>0.0</td>\n",
              "      <td>0.159757</td>\n",
              "    </tr>\n",
              "    <tr>\n",
              "      <th>1</th>\n",
              "      <td>FedEx no longer to transport bioterror germs i...</td>\n",
              "      <td>0</td>\n",
              "      <td>1.0</td>\n",
              "      <td>0.747162</td>\n",
              "    </tr>\n",
              "    <tr>\n",
              "      <th>2</th>\n",
              "      <td>Gunmen kill four in El Salvador bus attack: Su...</td>\n",
              "      <td>1</td>\n",
              "      <td>1.0</td>\n",
              "      <td>0.988749</td>\n",
              "    </tr>\n",
              "    <tr>\n",
              "      <th>3</th>\n",
              "      <td>@camilacabello97 Internally and externally scr...</td>\n",
              "      <td>1</td>\n",
              "      <td>0.0</td>\n",
              "      <td>0.196229</td>\n",
              "    </tr>\n",
              "    <tr>\n",
              "      <th>4</th>\n",
              "      <td>Radiation emergency #preparedness starts with ...</td>\n",
              "      <td>1</td>\n",
              "      <td>1.0</td>\n",
              "      <td>0.707808</td>\n",
              "    </tr>\n",
              "    <tr>\n",
              "      <th>...</th>\n",
              "      <td>...</td>\n",
              "      <td>...</td>\n",
              "      <td>...</td>\n",
              "      <td>...</td>\n",
              "    </tr>\n",
              "    <tr>\n",
              "      <th>757</th>\n",
              "      <td>That's the ultimate road to destruction</td>\n",
              "      <td>0</td>\n",
              "      <td>0.0</td>\n",
              "      <td>0.137074</td>\n",
              "    </tr>\n",
              "    <tr>\n",
              "      <th>758</th>\n",
              "      <td>@SetZorah dad why dont you claim me that mean ...</td>\n",
              "      <td>0</td>\n",
              "      <td>0.0</td>\n",
              "      <td>0.095865</td>\n",
              "    </tr>\n",
              "    <tr>\n",
              "      <th>759</th>\n",
              "      <td>FedEx will no longer transport bioterror patho...</td>\n",
              "      <td>0</td>\n",
              "      <td>1.0</td>\n",
              "      <td>0.876982</td>\n",
              "    </tr>\n",
              "    <tr>\n",
              "      <th>760</th>\n",
              "      <td>Crack in the path where I wiped out this morni...</td>\n",
              "      <td>0</td>\n",
              "      <td>1.0</td>\n",
              "      <td>0.612631</td>\n",
              "    </tr>\n",
              "    <tr>\n",
              "      <th>761</th>\n",
              "      <td>I liked a @YouTube video from @dannyonpc http:...</td>\n",
              "      <td>0</td>\n",
              "      <td>0.0</td>\n",
              "      <td>0.117992</td>\n",
              "    </tr>\n",
              "  </tbody>\n",
              "</table>\n",
              "<p>762 rows × 4 columns</p>\n",
              "</div>\n",
              "      <button class=\"colab-df-convert\" onclick=\"convertToInteractive('df-b9875aec-9a21-45ce-9027-b5377d040f56')\"\n",
              "              title=\"Convert this dataframe to an interactive table.\"\n",
              "              style=\"display:none;\">\n",
              "        \n",
              "  <svg xmlns=\"http://www.w3.org/2000/svg\" height=\"24px\"viewBox=\"0 0 24 24\"\n",
              "       width=\"24px\">\n",
              "    <path d=\"M0 0h24v24H0V0z\" fill=\"none\"/>\n",
              "    <path d=\"M18.56 5.44l.94 2.06.94-2.06 2.06-.94-2.06-.94-.94-2.06-.94 2.06-2.06.94zm-11 1L8.5 8.5l.94-2.06 2.06-.94-2.06-.94L8.5 2.5l-.94 2.06-2.06.94zm10 10l.94 2.06.94-2.06 2.06-.94-2.06-.94-.94-2.06-.94 2.06-2.06.94z\"/><path d=\"M17.41 7.96l-1.37-1.37c-.4-.4-.92-.59-1.43-.59-.52 0-1.04.2-1.43.59L10.3 9.45l-7.72 7.72c-.78.78-.78 2.05 0 2.83L4 21.41c.39.39.9.59 1.41.59.51 0 1.02-.2 1.41-.59l7.78-7.78 2.81-2.81c.8-.78.8-2.07 0-2.86zM5.41 20L4 18.59l7.72-7.72 1.47 1.35L5.41 20z\"/>\n",
              "  </svg>\n",
              "      </button>\n",
              "      \n",
              "  <style>\n",
              "    .colab-df-container {\n",
              "      display:flex;\n",
              "      flex-wrap:wrap;\n",
              "      gap: 12px;\n",
              "    }\n",
              "\n",
              "    .colab-df-convert {\n",
              "      background-color: #E8F0FE;\n",
              "      border: none;\n",
              "      border-radius: 50%;\n",
              "      cursor: pointer;\n",
              "      display: none;\n",
              "      fill: #1967D2;\n",
              "      height: 32px;\n",
              "      padding: 0 0 0 0;\n",
              "      width: 32px;\n",
              "    }\n",
              "\n",
              "    .colab-df-convert:hover {\n",
              "      background-color: #E2EBFA;\n",
              "      box-shadow: 0px 1px 2px rgba(60, 64, 67, 0.3), 0px 1px 3px 1px rgba(60, 64, 67, 0.15);\n",
              "      fill: #174EA6;\n",
              "    }\n",
              "\n",
              "    [theme=dark] .colab-df-convert {\n",
              "      background-color: #3B4455;\n",
              "      fill: #D2E3FC;\n",
              "    }\n",
              "\n",
              "    [theme=dark] .colab-df-convert:hover {\n",
              "      background-color: #434B5C;\n",
              "      box-shadow: 0px 1px 3px 1px rgba(0, 0, 0, 0.15);\n",
              "      filter: drop-shadow(0px 1px 2px rgba(0, 0, 0, 0.3));\n",
              "      fill: #FFFFFF;\n",
              "    }\n",
              "  </style>\n",
              "\n",
              "      <script>\n",
              "        const buttonEl =\n",
              "          document.querySelector('#df-b9875aec-9a21-45ce-9027-b5377d040f56 button.colab-df-convert');\n",
              "        buttonEl.style.display =\n",
              "          google.colab.kernel.accessAllowed ? 'block' : 'none';\n",
              "\n",
              "        async function convertToInteractive(key) {\n",
              "          const element = document.querySelector('#df-b9875aec-9a21-45ce-9027-b5377d040f56');\n",
              "          const dataTable =\n",
              "            await google.colab.kernel.invokeFunction('convertToInteractive',\n",
              "                                                     [key], {});\n",
              "          if (!dataTable) return;\n",
              "\n",
              "          const docLinkHtml = 'Like what you see? Visit the ' +\n",
              "            '<a target=\"_blank\" href=https://colab.research.google.com/notebooks/data_table.ipynb>data table notebook</a>'\n",
              "            + ' to learn more about interactive tables.';\n",
              "          element.innerHTML = '';\n",
              "          dataTable['output_type'] = 'display_data';\n",
              "          await google.colab.output.renderOutput(dataTable, element);\n",
              "          const docLink = document.createElement('div');\n",
              "          docLink.innerHTML = docLinkHtml;\n",
              "          element.appendChild(docLink);\n",
              "        }\n",
              "      </script>\n",
              "    </div>\n",
              "  </div>\n",
              "  "
            ],
            "text/plain": [
              "                                                  text  target  pred  \\\n",
              "0    DFR EP016 Monthly Meltdown - On Dnbheaven 2015...       0   0.0   \n",
              "1    FedEx no longer to transport bioterror germs i...       0   1.0   \n",
              "2    Gunmen kill four in El Salvador bus attack: Su...       1   1.0   \n",
              "3    @camilacabello97 Internally and externally scr...       1   0.0   \n",
              "4    Radiation emergency #preparedness starts with ...       1   1.0   \n",
              "..                                                 ...     ...   ...   \n",
              "757            That's the ultimate road to destruction       0   0.0   \n",
              "758  @SetZorah dad why dont you claim me that mean ...       0   0.0   \n",
              "759  FedEx will no longer transport bioterror patho...       0   1.0   \n",
              "760  Crack in the path where I wiped out this morni...       0   1.0   \n",
              "761  I liked a @YouTube video from @dannyonpc http:...       0   0.0   \n",
              "\n",
              "     pred_probs  \n",
              "0      0.159757  \n",
              "1      0.747162  \n",
              "2      0.988749  \n",
              "3      0.196229  \n",
              "4      0.707808  \n",
              "..          ...  \n",
              "757    0.137074  \n",
              "758    0.095865  \n",
              "759    0.876982  \n",
              "760    0.612631  \n",
              "761    0.117992  \n",
              "\n",
              "[762 rows x 4 columns]"
            ]
          },
          "execution_count": 95,
          "metadata": {},
          "output_type": "execute_result"
        }
      ],
      "source": [
        "val_df"
      ]
    },
    {
      "cell_type": "code",
      "execution_count": null,
      "metadata": {
        "colab": {
          "base_uri": "https://localhost:8080/"
        },
        "id": "ecXoe3NEu2tC",
        "outputId": "6c30e5d5-c35e-4bb2-f7e8-8684f54eccb1"
      },
      "outputs": [
        {
          "name": "stdout",
          "output_type": "stream",
          "text": [
            "1/1 [==============================] - 0s 154ms/step\n",
            "1\n",
            "\n",
            "1/1 [==============================] - 0s 80ms/step\n",
            "0\n",
            "\n",
            "1/1 [==============================] - 0s 58ms/step\n",
            "0\n",
            "\n",
            "1/1 [==============================] - 0s 60ms/step\n",
            "0\n",
            "\n",
            "1/1 [==============================] - 0s 57ms/step\n",
            "1\n",
            "\n",
            "1/1 [==============================] - 0s 55ms/step\n",
            "1\n",
            "\n",
            "1/1 [==============================] - 0s 55ms/step\n",
            "0\n",
            "\n",
            "1/1 [==============================] - 0s 58ms/step\n",
            "1\n",
            "\n",
            "1/1 [==============================] - 0s 46ms/step\n",
            "0\n",
            "\n",
            "1/1 [==============================] - 0s 36ms/step\n",
            "1\n",
            "\n"
          ]
        }
      ],
      "source": [
        "import random\n",
        "test_sentences = test_df[\"text\"].to_list()\n",
        "test_samples = random.sample(test_sentences, 10)\n",
        "for test_sample in test_samples:\n",
        "  pred_prob = tf.squeeze(model_6_pretrained.predict([test_sample]))\n",
        "  pred = tf.round(pred_prob)\n",
        "  print(int(pred))\n",
        "  print()"
      ]
    },
    {
      "cell_type": "code",
      "execution_count": null,
      "metadata": {
        "id": "tZz-w8RCzRGa"
      },
      "outputs": [],
      "source": []
    }
  ],
  "metadata": {
    "accelerator": "GPU",
    "colab": {
      "provenance": []
    },
    "kernelspec": {
      "display_name": "Python 3",
      "name": "python3"
    },
    "language_info": {
      "name": "python"
    }
  },
  "nbformat": 4,
  "nbformat_minor": 0
}
